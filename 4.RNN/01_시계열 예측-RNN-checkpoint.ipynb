{
 "cells": [
  {
   "cell_type": "markdown",
   "metadata": {},
   "source": [
    "# 시계열 예측 문제\n",
    "- 사인파형 시계열을 입력으로 다음 스텝의 출력을 예측\n",
    "- 3개의 순서열을 입력한 후 출력값이 target과 일치하게 만듦"
   ]
  },
  {
   "cell_type": "code",
   "execution_count": 4,
   "metadata": {},
   "outputs": [],
   "source": [
    "import numpy as np\n",
    "import matplotlib.pyplot as plt\n",
    "%matplotlib inline"
   ]
  },
  {
   "cell_type": "code",
   "execution_count": 5,
   "metadata": {},
   "outputs": [
    {
     "data": {
      "image/png": "[encoded data removed]",
      "text/plain": [
       "<Figure size 432x288 with 1 Axes>"
      ]
     },
     "metadata": {
      "needs_background": "light"
     },
     "output_type": "display_data"
    }
   ],
   "source": [
    "s = np.sin(2 * np.pi * 0.125 * np.arange(20))\n",
    "plt.plot(s, 'ro-')\n",
    "plt.xlim(-0.5, 20.5)\n",
    "plt.ylim(-1.1, 1.1)\n",
    "plt.show()"
   ]
  },
  {
   "cell_type": "markdown",
   "metadata": {},
   "source": [
    "### 원래의 시계열 벡터를 Toeplitz 행렬 형태로 변환\n",
    "#### (대각선 위의 성분들이 같은 정사각 행렬)"
   ]
  },
  {
   "cell_type": "code",
   "execution_count": 6,
   "metadata": {},
   "outputs": [
    {
     "data": {
      "text/plain": [
       "array([[ 0.00000000e+00,  7.07106781e-01,  1.00000000e+00],\n",
       "       [ 7.07106781e-01,  1.00000000e+00,  7.07106781e-01],\n",
       "       [ 1.00000000e+00,  7.07106781e-01,  1.22464680e-16],\n",
       "       [ 7.07106781e-01,  1.22464680e-16, -7.07106781e-01],\n",
       "       [ 1.22464680e-16, -7.07106781e-01, -1.00000000e+00]])"
      ]
     },
     "execution_count": 6,
     "metadata": {},
     "output_type": "execute_result"
    }
   ],
   "source": [
    "from scipy.linalg import toeplitz\n",
    "S = np.fliplr(toeplitz(np.r_[s[-1], np.zeros(s.shape[0] - 2)], s[::-1]))\n",
    "S[:5, :3]"
   ]
  },
  {
   "cell_type": "code",
   "execution_count": 7,
   "metadata": {},
   "outputs": [
    {
     "data": {
      "text/plain": [
       "array([[ 0.00000000e+00,  7.07106781e-01,  1.00000000e+00,\n",
       "         7.07106781e-01,  1.22464680e-16, -7.07106781e-01,\n",
       "        -1.00000000e+00, -7.07106781e-01, -2.44929360e-16,\n",
       "         7.07106781e-01,  1.00000000e+00,  7.07106781e-01,\n",
       "         3.67394040e-16, -7.07106781e-01, -1.00000000e+00,\n",
       "        -7.07106781e-01, -4.89858720e-16,  7.07106781e-01,\n",
       "         1.00000000e+00,  7.07106781e-01],\n",
       "       [ 7.07106781e-01,  1.00000000e+00,  7.07106781e-01,\n",
       "         1.22464680e-16, -7.07106781e-01, -1.00000000e+00,\n",
       "        -7.07106781e-01, -2.44929360e-16,  7.07106781e-01,\n",
       "         1.00000000e+00,  7.07106781e-01,  3.67394040e-16,\n",
       "        -7.07106781e-01, -1.00000000e+00, -7.07106781e-01,\n",
       "        -4.89858720e-16,  7.07106781e-01,  1.00000000e+00,\n",
       "         7.07106781e-01,  0.00000000e+00],\n",
       "       [ 1.00000000e+00,  7.07106781e-01,  1.22464680e-16,\n",
       "        -7.07106781e-01, -1.00000000e+00, -7.07106781e-01,\n",
       "        -2.44929360e-16,  7.07106781e-01,  1.00000000e+00,\n",
       "         7.07106781e-01,  3.67394040e-16, -7.07106781e-01,\n",
       "        -1.00000000e+00, -7.07106781e-01, -4.89858720e-16,\n",
       "         7.07106781e-01,  1.00000000e+00,  7.07106781e-01,\n",
       "         0.00000000e+00,  0.00000000e+00],\n",
       "       [ 7.07106781e-01,  1.22464680e-16, -7.07106781e-01,\n",
       "        -1.00000000e+00, -7.07106781e-01, -2.44929360e-16,\n",
       "         7.07106781e-01,  1.00000000e+00,  7.07106781e-01,\n",
       "         3.67394040e-16, -7.07106781e-01, -1.00000000e+00,\n",
       "        -7.07106781e-01, -4.89858720e-16,  7.07106781e-01,\n",
       "         1.00000000e+00,  7.07106781e-01,  0.00000000e+00,\n",
       "         0.00000000e+00,  0.00000000e+00],\n",
       "       [ 1.22464680e-16, -7.07106781e-01, -1.00000000e+00,\n",
       "        -7.07106781e-01, -2.44929360e-16,  7.07106781e-01,\n",
       "         1.00000000e+00,  7.07106781e-01,  3.67394040e-16,\n",
       "        -7.07106781e-01, -1.00000000e+00, -7.07106781e-01,\n",
       "        -4.89858720e-16,  7.07106781e-01,  1.00000000e+00,\n",
       "         7.07106781e-01,  0.00000000e+00,  0.00000000e+00,\n",
       "         0.00000000e+00,  0.00000000e+00],\n",
       "       [-7.07106781e-01, -1.00000000e+00, -7.07106781e-01,\n",
       "        -2.44929360e-16,  7.07106781e-01,  1.00000000e+00,\n",
       "         7.07106781e-01,  3.67394040e-16, -7.07106781e-01,\n",
       "        -1.00000000e+00, -7.07106781e-01, -4.89858720e-16,\n",
       "         7.07106781e-01,  1.00000000e+00,  7.07106781e-01,\n",
       "         0.00000000e+00,  0.00000000e+00,  0.00000000e+00,\n",
       "         0.00000000e+00,  0.00000000e+00],\n",
       "       [-1.00000000e+00, -7.07106781e-01, -2.44929360e-16,\n",
       "         7.07106781e-01,  1.00000000e+00,  7.07106781e-01,\n",
       "         3.67394040e-16, -7.07106781e-01, -1.00000000e+00,\n",
       "        -7.07106781e-01, -4.89858720e-16,  7.07106781e-01,\n",
       "         1.00000000e+00,  7.07106781e-01,  0.00000000e+00,\n",
       "         0.00000000e+00,  0.00000000e+00,  0.00000000e+00,\n",
       "         0.00000000e+00,  0.00000000e+00],\n",
       "       [-7.07106781e-01, -2.44929360e-16,  7.07106781e-01,\n",
       "         1.00000000e+00,  7.07106781e-01,  3.67394040e-16,\n",
       "        -7.07106781e-01, -1.00000000e+00, -7.07106781e-01,\n",
       "        -4.89858720e-16,  7.07106781e-01,  1.00000000e+00,\n",
       "         7.07106781e-01,  0.00000000e+00,  0.00000000e+00,\n",
       "         0.00000000e+00,  0.00000000e+00,  0.00000000e+00,\n",
       "         0.00000000e+00,  0.00000000e+00],\n",
       "       [-2.44929360e-16,  7.07106781e-01,  1.00000000e+00,\n",
       "         7.07106781e-01,  3.67394040e-16, -7.07106781e-01,\n",
       "        -1.00000000e+00, -7.07106781e-01, -4.89858720e-16,\n",
       "         7.07106781e-01,  1.00000000e+00,  7.07106781e-01,\n",
       "         0.00000000e+00,  0.00000000e+00,  0.00000000e+00,\n",
       "         0.00000000e+00,  0.00000000e+00,  0.00000000e+00,\n",
       "         0.00000000e+00,  0.00000000e+00],\n",
       "       [ 7.07106781e-01,  1.00000000e+00,  7.07106781e-01,\n",
       "         3.67394040e-16, -7.07106781e-01, -1.00000000e+00,\n",
       "        -7.07106781e-01, -4.89858720e-16,  7.07106781e-01,\n",
       "         1.00000000e+00,  7.07106781e-01,  0.00000000e+00,\n",
       "         0.00000000e+00,  0.00000000e+00,  0.00000000e+00,\n",
       "         0.00000000e+00,  0.00000000e+00,  0.00000000e+00,\n",
       "         0.00000000e+00,  0.00000000e+00],\n",
       "       [ 1.00000000e+00,  7.07106781e-01,  3.67394040e-16,\n",
       "        -7.07106781e-01, -1.00000000e+00, -7.07106781e-01,\n",
       "        -4.89858720e-16,  7.07106781e-01,  1.00000000e+00,\n",
       "         7.07106781e-01,  0.00000000e+00,  0.00000000e+00,\n",
       "         0.00000000e+00,  0.00000000e+00,  0.00000000e+00,\n",
       "         0.00000000e+00,  0.00000000e+00,  0.00000000e+00,\n",
       "         0.00000000e+00,  0.00000000e+00],\n",
       "       [ 7.07106781e-01,  3.67394040e-16, -7.07106781e-01,\n",
       "        -1.00000000e+00, -7.07106781e-01, -4.89858720e-16,\n",
       "         7.07106781e-01,  1.00000000e+00,  7.07106781e-01,\n",
       "         0.00000000e+00,  0.00000000e+00,  0.00000000e+00,\n",
       "         0.00000000e+00,  0.00000000e+00,  0.00000000e+00,\n",
       "         0.00000000e+00,  0.00000000e+00,  0.00000000e+00,\n",
       "         0.00000000e+00,  0.00000000e+00],\n",
       "       [ 3.67394040e-16, -7.07106781e-01, -1.00000000e+00,\n",
       "        -7.07106781e-01, -4.89858720e-16,  7.07106781e-01,\n",
       "         1.00000000e+00,  7.07106781e-01,  0.00000000e+00,\n",
       "         0.00000000e+00,  0.00000000e+00,  0.00000000e+00,\n",
       "         0.00000000e+00,  0.00000000e+00,  0.00000000e+00,\n",
       "         0.00000000e+00,  0.00000000e+00,  0.00000000e+00,\n",
       "         0.00000000e+00,  0.00000000e+00],\n",
       "       [-7.07106781e-01, -1.00000000e+00, -7.07106781e-01,\n",
       "        -4.89858720e-16,  7.07106781e-01,  1.00000000e+00,\n",
       "         7.07106781e-01,  0.00000000e+00,  0.00000000e+00,\n",
       "         0.00000000e+00,  0.00000000e+00,  0.00000000e+00,\n",
       "         0.00000000e+00,  0.00000000e+00,  0.00000000e+00,\n",
       "         0.00000000e+00,  0.00000000e+00,  0.00000000e+00,\n",
       "         0.00000000e+00,  0.00000000e+00],\n",
       "       [-1.00000000e+00, -7.07106781e-01, -4.89858720e-16,\n",
       "         7.07106781e-01,  1.00000000e+00,  7.07106781e-01,\n",
       "         0.00000000e+00,  0.00000000e+00,  0.00000000e+00,\n",
       "         0.00000000e+00,  0.00000000e+00,  0.00000000e+00,\n",
       "         0.00000000e+00,  0.00000000e+00,  0.00000000e+00,\n",
       "         0.00000000e+00,  0.00000000e+00,  0.00000000e+00,\n",
       "         0.00000000e+00,  0.00000000e+00],\n",
       "       [-7.07106781e-01, -4.89858720e-16,  7.07106781e-01,\n",
       "         1.00000000e+00,  7.07106781e-01,  0.00000000e+00,\n",
       "         0.00000000e+00,  0.00000000e+00,  0.00000000e+00,\n",
       "         0.00000000e+00,  0.00000000e+00,  0.00000000e+00,\n",
       "         0.00000000e+00,  0.00000000e+00,  0.00000000e+00,\n",
       "         0.00000000e+00,  0.00000000e+00,  0.00000000e+00,\n",
       "         0.00000000e+00,  0.00000000e+00],\n",
       "       [-4.89858720e-16,  7.07106781e-01,  1.00000000e+00,\n",
       "         7.07106781e-01,  0.00000000e+00,  0.00000000e+00,\n",
       "         0.00000000e+00,  0.00000000e+00,  0.00000000e+00,\n",
       "         0.00000000e+00,  0.00000000e+00,  0.00000000e+00,\n",
       "         0.00000000e+00,  0.00000000e+00,  0.00000000e+00,\n",
       "         0.00000000e+00,  0.00000000e+00,  0.00000000e+00,\n",
       "         0.00000000e+00,  0.00000000e+00],\n",
       "       [ 7.07106781e-01,  1.00000000e+00,  7.07106781e-01,\n",
       "         0.00000000e+00,  0.00000000e+00,  0.00000000e+00,\n",
       "         0.00000000e+00,  0.00000000e+00,  0.00000000e+00,\n",
       "         0.00000000e+00,  0.00000000e+00,  0.00000000e+00,\n",
       "         0.00000000e+00,  0.00000000e+00,  0.00000000e+00,\n",
       "         0.00000000e+00,  0.00000000e+00,  0.00000000e+00,\n",
       "         0.00000000e+00,  0.00000000e+00],\n",
       "       [ 1.00000000e+00,  7.07106781e-01,  0.00000000e+00,\n",
       "         0.00000000e+00,  0.00000000e+00,  0.00000000e+00,\n",
       "         0.00000000e+00,  0.00000000e+00,  0.00000000e+00,\n",
       "         0.00000000e+00,  0.00000000e+00,  0.00000000e+00,\n",
       "         0.00000000e+00,  0.00000000e+00,  0.00000000e+00,\n",
       "         0.00000000e+00,  0.00000000e+00,  0.00000000e+00,\n",
       "         0.00000000e+00,  0.00000000e+00]])"
      ]
     },
     "execution_count": 7,
     "metadata": {},
     "output_type": "execute_result"
    }
   ],
   "source": [
    "S"
   ]
  },
  {
   "cell_type": "code",
   "execution_count": 8,
   "metadata": {},
   "outputs": [
    {
     "data": {
      "text/plain": [
       "((18, 3, 1), (18,))"
      ]
     },
     "execution_count": 8,
     "metadata": {},
     "output_type": "execute_result"
    }
   ],
   "source": [
    "X_train = S[:-1, :3][:, :, np.newaxis]\n",
    "Y_train = S[:-1, 3]\n",
    "X_train.shape, Y_train.shape"
   ]
  },
  {
   "cell_type": "code",
   "execution_count": 9,
   "metadata": {},
   "outputs": [
    {
     "data": {
      "text/plain": [
       "array([[[ 0.00000000e+00],\n",
       "        [ 7.07106781e-01],\n",
       "        [ 1.00000000e+00]],\n",
       "\n",
       "       [[ 7.07106781e-01],\n",
       "        [ 1.00000000e+00],\n",
       "        [ 7.07106781e-01]],\n",
       "\n",
       "       [[ 1.00000000e+00],\n",
       "        [ 7.07106781e-01],\n",
       "        [ 1.22464680e-16]],\n",
       "\n",
       "       [[ 7.07106781e-01],\n",
       "        [ 1.22464680e-16],\n",
       "        [-7.07106781e-01]]])"
      ]
     },
     "execution_count": 9,
     "metadata": {},
     "output_type": "execute_result"
    }
   ],
   "source": [
    "X_train[:4]"
   ]
  },
  {
   "cell_type": "code",
   "execution_count": 6,
   "metadata": {},
   "outputs": [
    {
     "data": {
      "text/plain": [
       "array([ 7.07106781e-01,  1.22464680e-16, -7.07106781e-01, -1.00000000e+00])"
      ]
     },
     "execution_count": 6,
     "metadata": {},
     "output_type": "execute_result"
    }
   ],
   "source": [
    "Y_train[:4]"
   ]
  },
  {
   "cell_type": "code",
   "execution_count": 10,
   "metadata": {},
   "outputs": [
    {
     "data": {
      "image/png": "[encoded data removed]",
      "text/plain": [
       "<Figure size 720x432 with 2 Axes>"
      ]
     },
     "metadata": {
      "needs_background": "light"
     },
     "output_type": "display_data"
    }
   ],
   "source": [
    "plt.figure(figsize=(10,6))\n",
    "\n",
    "plt.subplot(211)\n",
    "plt.plot([0, 1, 2], X_train[0].flatten(), 'bo-', label=\"input sequence\")\n",
    "plt.plot([3], Y_train[0], 'ro', label=\"target\")\n",
    "plt.xlim(-0.5, 4.5)\n",
    "plt.ylim(-1.1, 1.1)\n",
    "plt.legend()\n",
    "plt.grid()\n",
    "plt.title(\"First sample sequence\")\n",
    "\n",
    "plt.subplot(212)\n",
    "plt.plot([1, 2, 3], X_train[1].flatten(), 'bo-', label=\"input sequence\")\n",
    "plt.plot([4], Y_train[1], 'ro', label=\"target\")\n",
    "plt.xlim(-0.5, 4.5)\n",
    "plt.ylim(-1.1, 1.1)\n",
    "plt.legend()\n",
    "plt.grid()\n",
    "plt.title(\"Second sample sequence\")\n",
    "\n",
    "plt.tight_layout()\n",
    "plt.show()"
   ]
  },
  {
   "cell_type": "markdown",
   "metadata": {},
   "source": [
    "### RNN으로 해결 - SimpleRNN() 사용"
   ]
  },
  {
   "cell_type": "code",
   "execution_count": 11,
   "metadata": {},
   "outputs": [
    {
     "name": "stderr",
     "output_type": "stream",
     "text": [
      "Using TensorFlow backend.\n"
     ]
    }
   ],
   "source": [
    "from tensorflow import keras\n",
    "from keras.models import Sequential\n",
    "from keras.layers import SimpleRNN, Dense\n",
    "\n",
    "seed = 2020\n",
    "np.random.seed(seed)"
   ]
  },
  {
   "cell_type": "code",
   "execution_count": 13,
   "metadata": {},
   "outputs": [
    {
     "name": "stdout",
     "output_type": "stream",
     "text": [
      "Model: \"sequential_1\"\n",
      "_________________________________________________________________\n",
      "Layer (type)                 Output Shape              Param #   \n",
      "=================================================================\n",
      "simple_rnn_1 (SimpleRNN)     (None, 10)                120       \n",
      "_________________________________________________________________\n",
      "dense_1 (Dense)              (None, 1)                 11        \n",
      "=================================================================\n",
      "Total params: 131\n",
      "Trainable params: 131\n",
      "Non-trainable params: 0\n",
      "_________________________________________________________________\n"
     ]
    }
   ],
   "source": [
    "model = Sequential()\n",
    "model.add(SimpleRNN(10, input_shape=(3, 1)))\n",
    "model.add(Dense(1, activation=\"linear\"))\n",
    "model.summary()"
   ]
  },
  {
   "cell_type": "code",
   "execution_count": 14,
   "metadata": {},
   "outputs": [],
   "source": [
    "model.compile(loss='mse', optimizer='sgd')"
   ]
  },
  {
   "cell_type": "code",
   "execution_count": 16,
   "metadata": {},
   "outputs": [
    {
     "data": {
      "image/png": "[encoded data removed]",
      "text/plain": [
       "<Figure size 432x288 with 1 Axes>"
      ]
     },
     "metadata": {
      "needs_background": "light"
     },
     "output_type": "display_data"
    }
   ],
   "source": [
    "plt.plot(Y_train, 'ro-', label=\"target\")\n",
    "plt.plot(model.predict(X_train[:, :, :]), 'bs-', label=\"output\")\n",
    "plt.xlim(-0.5, 20.5)\n",
    "plt.ylim(-1.1, 1.1)\n",
    "plt.legend()\n",
    "plt.title(\"Before training\")\n",
    "plt.show()"
   ]
  },
  {
   "cell_type": "code",
   "execution_count": 18,
   "metadata": {},
   "outputs": [
    {
     "name": "stdout",
     "output_type": "stream",
     "text": [
      "Epoch 1/100\n",
      "18/18 [==============================] - 0s 54us/step - loss: 9.1439e-04\n",
      "Epoch 2/100\n",
      "18/18 [==============================] - 0s 55us/step - loss: 8.8006e-04\n",
      "Epoch 3/100\n",
      "18/18 [==============================] - 0s 55us/step - loss: 8.4803e-04\n",
      "Epoch 4/100\n",
      "18/18 [==============================] - 0s 55us/step - loss: 8.1816e-04\n",
      "Epoch 5/100\n",
      "18/18 [==============================] - 0s 55us/step - loss: 7.9030e-04\n",
      "Epoch 6/100\n",
      "18/18 [==============================] - 0s 55us/step - loss: 7.6432e-04\n",
      "Epoch 7/100\n",
      "18/18 [==============================] - 0s 55us/step - loss: 7.4009e-04\n",
      "Epoch 8/100\n",
      "18/18 [==============================] - 0s 111us/step - loss: 7.1748e-04\n",
      "Epoch 9/100\n",
      "18/18 [==============================] - 0s 111us/step - loss: 6.9640e-04\n",
      "Epoch 10/100\n",
      "18/18 [==============================] - 0s 111us/step - loss: 6.7673e-04\n",
      "Epoch 11/100\n",
      "18/18 [==============================] - 0s 111us/step - loss: 6.5838e-04\n",
      "Epoch 12/100\n",
      "18/18 [==============================] - 0s 55us/step - loss: 6.4127e-04\n",
      "Epoch 13/100\n",
      "18/18 [==============================] - 0s 55us/step - loss: 6.2530e-04\n",
      "Epoch 14/100\n",
      "18/18 [==============================] - 0s 55us/step - loss: 6.1041e-04\n",
      "Epoch 15/100\n",
      "18/18 [==============================] - 0s 54us/step - loss: 5.9651e-04\n",
      "Epoch 16/100\n",
      "18/18 [==============================] - 0s 55us/step - loss: 5.8355e-04\n",
      "Epoch 17/100\n",
      "18/18 [==============================] - 0s 54us/step - loss: 5.7145e-04\n",
      "Epoch 18/100\n",
      "18/18 [==============================] - 0s 55us/step - loss: 5.6016e-04\n",
      "Epoch 19/100\n",
      "18/18 [==============================] - 0s 55us/step - loss: 5.4962e-04\n",
      "Epoch 20/100\n",
      "18/18 [==============================] - 0s 55us/step - loss: 5.3979e-04\n",
      "Epoch 21/100\n",
      "18/18 [==============================] - 0s 54us/step - loss: 5.3061e-04\n",
      "Epoch 22/100\n",
      "18/18 [==============================] - 0s 55us/step - loss: 5.2204e-04\n",
      "Epoch 23/100\n",
      "18/18 [==============================] - 0s 55us/step - loss: 5.1404e-04\n",
      "Epoch 24/100\n",
      "18/18 [==============================] - 0s 55us/step - loss: 5.0656e-04\n",
      "Epoch 25/100\n",
      "18/18 [==============================] - 0s 111us/step - loss: 4.9959e-04\n",
      "Epoch 26/100\n",
      "18/18 [==============================] - 0s 55us/step - loss: 4.9307e-04\n",
      "Epoch 27/100\n",
      "18/18 [==============================] - 0s 54us/step - loss: 4.8698e-04\n",
      "Epoch 28/100\n",
      "18/18 [==============================] - 0s 54us/step - loss: 4.8129e-04\n",
      "Epoch 29/100\n",
      "18/18 [==============================] - 0s 55us/step - loss: 4.7597e-04\n",
      "Epoch 30/100\n",
      "18/18 [==============================] - 0s 111us/step - loss: 4.7100e-04\n",
      "Epoch 31/100\n",
      "18/18 [==============================] - 0s 111us/step - loss: 4.6636e-04\n",
      "Epoch 32/100\n",
      "18/18 [==============================] - 0s 111us/step - loss: 4.6201e-04\n",
      "Epoch 33/100\n",
      "18/18 [==============================] - 0s 55us/step - loss: 4.5795e-04\n",
      "Epoch 34/100\n",
      "18/18 [==============================] - 0s 55us/step - loss: 4.5415e-04\n",
      "Epoch 35/100\n",
      "18/18 [==============================] - 0s 55us/step - loss: 4.5059e-04\n",
      "Epoch 36/100\n",
      "18/18 [==============================] - 0s 54us/step - loss: 4.4726e-04\n",
      "Epoch 37/100\n",
      "18/18 [==============================] - 0s 55us/step - loss: 4.4414e-04\n",
      "Epoch 38/100\n",
      "18/18 [==============================] - 0s 55us/step - loss: 4.4121e-04\n",
      "Epoch 39/100\n",
      "18/18 [==============================] - 0s 55us/step - loss: 4.3847e-04\n",
      "Epoch 40/100\n",
      "18/18 [==============================] - 0s 55us/step - loss: 4.3591e-04\n",
      "Epoch 41/100\n",
      "18/18 [==============================] - 0s 55us/step - loss: 4.3350e-04\n",
      "Epoch 42/100\n",
      "18/18 [==============================] - 0s 55us/step - loss: 4.3124e-04\n",
      "Epoch 43/100\n",
      "18/18 [==============================] - 0s 55us/step - loss: 4.2912e-04\n",
      "Epoch 44/100\n",
      "18/18 [==============================] - 0s 55us/step - loss: 4.2713e-04\n",
      "Epoch 45/100\n",
      "18/18 [==============================] - 0s 55us/step - loss: 4.2525e-04\n",
      "Epoch 46/100\n",
      "18/18 [==============================] - 0s 55us/step - loss: 4.2349e-04\n",
      "Epoch 47/100\n",
      "18/18 [==============================] - 0s 55us/step - loss: 4.2184e-04\n",
      "Epoch 48/100\n",
      "18/18 [==============================] - 0s 55us/step - loss: 4.2028e-04\n",
      "Epoch 49/100\n",
      "18/18 [==============================] - 0s 111us/step - loss: 4.1881e-04\n",
      "Epoch 50/100\n",
      "18/18 [==============================] - 0s 54us/step - loss: 4.1743e-04\n",
      "Epoch 51/100\n",
      "18/18 [==============================] - 0s 55us/step - loss: 4.1612e-04\n",
      "Epoch 52/100\n",
      "18/18 [==============================] - 0s 55us/step - loss: 4.1489e-04\n",
      "Epoch 53/100\n",
      "18/18 [==============================] - 0s 55us/step - loss: 4.1373e-04\n",
      "Epoch 54/100\n",
      "18/18 [==============================] - 0s 55us/step - loss: 4.1263e-04\n",
      "Epoch 55/100\n",
      "18/18 [==============================] - 0s 111us/step - loss: 4.1159e-04\n",
      "Epoch 56/100\n",
      "18/18 [==============================] - 0s 55us/step - loss: 4.1060e-04\n",
      "Epoch 57/100\n",
      "18/18 [==============================] - 0s 55us/step - loss: 4.0966e-04\n",
      "Epoch 58/100\n",
      "18/18 [==============================] - 0s 56us/step - loss: 4.0878e-04\n",
      "Epoch 59/100\n",
      "18/18 [==============================] - 0s 55us/step - loss: 4.0794e-04\n",
      "Epoch 60/100\n",
      "18/18 [==============================] - 0s 55us/step - loss: 4.0714e-04\n",
      "Epoch 61/100\n",
      "18/18 [==============================] - 0s 55us/step - loss: 4.0638e-04\n",
      "Epoch 62/100\n",
      "18/18 [==============================] - 0s 111us/step - loss: 4.0565e-04\n",
      "Epoch 63/100\n",
      "18/18 [==============================] - 0s 55us/step - loss: 4.0496e-04\n",
      "Epoch 64/100\n",
      "18/18 [==============================] - 0s 111us/step - loss: 4.0430e-04\n",
      "Epoch 65/100\n",
      "18/18 [==============================] - 0s 111us/step - loss: 4.0367e-04\n",
      "Epoch 66/100\n",
      "18/18 [==============================] - 0s 57us/step - loss: 4.0306e-04\n",
      "Epoch 67/100\n",
      "18/18 [==============================] - 0s 53us/step - loss: 4.0249e-04\n",
      "Epoch 68/100\n",
      "18/18 [==============================] - 0s 55us/step - loss: 4.0193e-04\n",
      "Epoch 69/100\n",
      "18/18 [==============================] - 0s 55us/step - loss: 4.0140e-04\n",
      "Epoch 70/100\n",
      "18/18 [==============================] - 0s 55us/step - loss: 4.0088e-04\n",
      "Epoch 71/100\n",
      "18/18 [==============================] - 0s 111us/step - loss: 4.0039e-04\n",
      "Epoch 72/100\n",
      "18/18 [==============================] - 0s 111us/step - loss: 3.9992e-04\n",
      "Epoch 73/100\n",
      "18/18 [==============================] - 0s 112us/step - loss: 3.9946e-04\n",
      "Epoch 74/100\n",
      "18/18 [==============================] - 0s 110us/step - loss: 3.9901e-04\n",
      "Epoch 75/100\n",
      "18/18 [==============================] - 0s 111us/step - loss: 3.9858e-04\n",
      "Epoch 76/100\n",
      "18/18 [==============================] - 0s 57us/step - loss: 3.9817e-04\n",
      "Epoch 77/100\n",
      "18/18 [==============================] - 0s 111us/step - loss: 3.9777e-04\n",
      "Epoch 78/100\n",
      "18/18 [==============================] - 0s 55us/step - loss: 3.9738e-04\n",
      "Epoch 79/100\n",
      "18/18 [==============================] - 0s 56us/step - loss: 3.9700e-04\n",
      "Epoch 80/100\n",
      "18/18 [==============================] - 0s 111us/step - loss: 3.9662e-04\n",
      "Epoch 81/100\n",
      "18/18 [==============================] - 0s 111us/step - loss: 3.9626e-04\n",
      "Epoch 82/100\n",
      "18/18 [==============================] - 0s 55us/step - loss: 3.9591e-04\n",
      "Epoch 83/100\n",
      "18/18 [==============================] - 0s 54us/step - loss: 3.9557e-04\n",
      "Epoch 84/100\n",
      "18/18 [==============================] - 0s 55us/step - loss: 3.9523e-04\n",
      "Epoch 85/100\n",
      "18/18 [==============================] - 0s 55us/step - loss: 3.9490e-04\n",
      "Epoch 86/100\n",
      "18/18 [==============================] - 0s 55us/step - loss: 3.9458e-04\n",
      "Epoch 87/100\n",
      "18/18 [==============================] - 0s 55us/step - loss: 3.9427e-04\n",
      "Epoch 88/100\n",
      "18/18 [==============================] - 0s 111us/step - loss: 3.9396e-04\n",
      "Epoch 89/100\n",
      "18/18 [==============================] - 0s 55us/step - loss: 3.9365e-04\n",
      "Epoch 90/100\n",
      "18/18 [==============================] - 0s 110us/step - loss: 3.9335e-04\n",
      "Epoch 91/100\n",
      "18/18 [==============================] - 0s 54us/step - loss: 3.9306e-04\n",
      "Epoch 92/100\n",
      "18/18 [==============================] - 0s 111us/step - loss: 3.9277e-04\n",
      "Epoch 93/100\n",
      "18/18 [==============================] - 0s 111us/step - loss: 3.9248e-04\n",
      "Epoch 94/100\n",
      "18/18 [==============================] - 0s 111us/step - loss: 3.9220e-04\n",
      "Epoch 95/100\n",
      "18/18 [==============================] - 0s 55us/step - loss: 3.9192e-04\n",
      "Epoch 96/100\n",
      "18/18 [==============================] - 0s 55us/step - loss: 3.9165e-04\n"
     ]
    },
    {
     "name": "stdout",
     "output_type": "stream",
     "text": [
      "Epoch 97/100\n",
      "18/18 [==============================] - 0s 55us/step - loss: 3.9137e-04\n",
      "Epoch 98/100\n",
      "18/18 [==============================] - 0s 111us/step - loss: 3.9110e-04\n",
      "Epoch 99/100\n",
      "18/18 [==============================] - 0s 111us/step - loss: 3.9084e-04\n",
      "Epoch 100/100\n",
      "18/18 [==============================] - 0s 55us/step - loss: 3.9057e-04\n"
     ]
    }
   ],
   "source": [
    "history = model.fit(X_train, Y_train, epochs=100) "
   ]
  },
  {
   "cell_type": "markdown",
   "metadata": {},
   "source": [
    "### 결과 확인"
   ]
  },
  {
   "cell_type": "code",
   "execution_count": 13,
   "metadata": {},
   "outputs": [
    {
     "data": {
      "image/png": "[encoded data removed]",
      "text/plain": [
       "<Figure size 432x288 with 1 Axes>"
      ]
     },
     "metadata": {
      "needs_background": "light"
     },
     "output_type": "display_data"
    }
   ],
   "source": [
    "plt.plot(history.history[\"loss\"])\n",
    "plt.title(\"Loss\")\n",
    "plt.show() "
   ]
  },
  {
   "cell_type": "code",
   "execution_count": 14,
   "metadata": {},
   "outputs": [
    {
     "data": {
      "image/png": "[encoded data removed]",
      "text/plain": [
       "<Figure size 432x288 with 1 Axes>"
      ]
     },
     "metadata": {
      "needs_background": "light"
     },
     "output_type": "display_data"
    }
   ],
   "source": [
    "plt.plot(Y_train, 'ro-', label=\"target\")\n",
    "plt.plot(model.predict(X_train[:, :, :]), 'bs-', label=\"output\")\n",
    "plt.xlim(-0.5, 20.5)\n",
    "plt.ylim(-1.1, 1.1)\n",
    "plt.legend()\n",
    "plt.title(\"After training\")\n",
    "plt.show() "
   ]
  },
  {
   "cell_type": "code",
   "execution_count": 15,
   "metadata": {},
   "outputs": [
    {
     "data": {
      "text/plain": [
       "<tf.Variable 'simple_rnn_1/kernel:0' shape=(1, 10) dtype=float32, numpy=\n",
       "array([[ 0.26183817, -0.4158699 , -0.04839181, -0.03293971, -0.45274195,\n",
       "        -0.6426876 , -0.55847985, -0.5010671 , -0.3727306 ,  0.5924795 ]],\n",
       "      dtype=float32)>"
      ]
     },
     "execution_count": 15,
     "metadata": {},
     "output_type": "execute_result"
    }
   ],
   "source": [
    "# 입력에 대한 weights\n",
    "model.weights[0]"
   ]
  },
  {
   "cell_type": "code",
   "execution_count": 16,
   "metadata": {},
   "outputs": [
    {
     "data": {
      "text/plain": [
       "<tf.Variable 'simple_rnn_1/recurrent_kernel:0' shape=(10, 10) dtype=float32, numpy=\n",
       "array([[-0.2799106 , -0.01769305, -0.475199  , -0.07075685,  0.35163015,\n",
       "        -0.5178326 , -0.3002756 , -0.02741877,  0.22698455, -0.411464  ],\n",
       "       [ 0.3723268 , -0.16682407, -0.5125553 ,  0.11159734,  0.20013519,\n",
       "         0.6286368 , -0.13951279, -0.16302577, -0.19805345, -0.28709787],\n",
       "       [-0.18544531, -0.15422042,  0.39557302,  0.25553063, -0.10003302,\n",
       "         0.26476818,  0.11943281,  0.08422434,  0.4114431 , -0.64310473],\n",
       "       [-0.08743107,  0.47623122, -0.05263866, -0.15037817, -0.27609578,\n",
       "         0.31401503, -0.614862  ,  0.30245158,  0.30736613,  0.11142699],\n",
       "       [-0.18576294, -0.26794916, -0.16976508,  0.62253845,  0.01931249,\n",
       "         0.10266052, -0.12760235, -0.25325662,  0.3923128 ,  0.5325745 ],\n",
       "       [ 0.07892572,  0.00944248,  0.41272554,  0.38460454,  0.63781524,\n",
       "         0.0057697 , -0.34338132,  0.40242615, -0.21037014,  0.12263632],\n",
       "       [ 0.34621525,  0.32240272,  0.25696135, -0.11381908,  0.22796506,\n",
       "        -0.05706222, -0.06631841, -0.6628098 ,  0.33518213, -0.03330012],\n",
       "       [-0.14169295, -0.58622456,  0.0740326 , -0.5632765 ,  0.2618589 ,\n",
       "         0.26697326, -0.03216464,  0.06320123,  0.31337038,  0.2063141 ],\n",
       "       [-0.45729947, -0.19192733,  0.21817823, -0.01514126, -0.20701179,\n",
       "         0.05649866, -0.4493449 , -0.44168043, -0.48093498, -0.09048814],\n",
       "       [ 0.60034996, -0.41949815,  0.15038058,  0.05004372, -0.39434668,\n",
       "        -0.39219987, -0.41976434,  0.12395927,  0.06131268, -0.07327649]],\n",
       "      dtype=float32)>"
      ]
     },
     "execution_count": 16,
     "metadata": {},
     "output_type": "execute_result"
    }
   ],
   "source": [
    "# 유닛에 대한 weights\n",
    "model.weights[1]"
   ]
  },
  {
   "cell_type": "code",
   "execution_count": 17,
   "metadata": {},
   "outputs": [
    {
     "data": {
      "text/plain": [
       "<tf.Variable 'simple_rnn_1/bias:0' shape=(10,) dtype=float32, numpy=\n",
       "array([-0.0033265 ,  0.00185159,  0.00344246,  0.0006037 , -0.00228209,\n",
       "        0.00374878, -0.00439652,  0.0020116 ,  0.00049625, -0.00286353],\n",
       "      dtype=float32)>"
      ]
     },
     "execution_count": 17,
     "metadata": {},
     "output_type": "execute_result"
    }
   ],
   "source": [
    "# bias\n",
    "model.weights[2]"
   ]
  },
  {
   "cell_type": "markdown",
   "metadata": {},
   "source": [
    "### RNN Node가 5인 경우"
   ]
  },
  {
   "cell_type": "code",
   "execution_count": 23,
   "metadata": {},
   "outputs": [
    {
     "name": "stdout",
     "output_type": "stream",
     "text": [
      "Model: \"sequential_3\"\n",
      "_________________________________________________________________\n",
      "Layer (type)                 Output Shape              Param #   \n",
      "=================================================================\n",
      "simple_rnn_3 (SimpleRNN)     (None, 5)                 35        \n",
      "_________________________________________________________________\n",
      "dense_3 (Dense)              (None, 1)                 6         \n",
      "=================================================================\n",
      "Total params: 41\n",
      "Trainable params: 41\n",
      "Non-trainable params: 0\n",
      "_________________________________________________________________\n"
     ]
    }
   ],
   "source": [
    "model2 = Sequential()\n",
    "model2.add(SimpleRNN(5, input_shape=(3, 1)))\n",
    "model2.add(Dense(1, activation=\"linear\"))\n",
    "model2.summary()"
   ]
  },
  {
   "cell_type": "code",
   "execution_count": 24,
   "metadata": {},
   "outputs": [],
   "source": [
    "model2.compile(loss='mse', optimizer='sgd')"
   ]
  },
  {
   "cell_type": "code",
   "execution_count": 25,
   "metadata": {},
   "outputs": [
    {
     "data": {
      "image/png": "[encoded data removed]",
      "text/plain": [
       "<Figure size 432x288 with 1 Axes>"
      ]
     },
     "metadata": {
      "needs_background": "light"
     },
     "output_type": "display_data"
    }
   ],
   "source": [
    "plt.plot(Y_train, 'ro-', label=\"target\")\n",
    "plt.plot(model2.predict(X_train[:, :, :]), 'bs-', label=\"output\")\n",
    "plt.xlim(-0.5, 20.5)\n",
    "plt.ylim(-1.1, 1.1)\n",
    "plt.legend()\n",
    "plt.title(\"Before training\")\n",
    "plt.show()"
   ]
  },
  {
   "cell_type": "code",
   "execution_count": 28,
   "metadata": {},
   "outputs": [
    {
     "name": "stdout",
     "output_type": "stream",
     "text": [
      "Epoch 1/100\n",
      "18/18 [==============================] - 0s 5ms/step - loss: 0.9496\n",
      "Epoch 2/100\n",
      "18/18 [==============================] - 0s 0us/step - loss: 0.9175\n",
      "Epoch 3/100\n",
      "18/18 [==============================] - 0s 656us/step - loss: 0.8865\n",
      "Epoch 4/100\n",
      "18/18 [==============================] - 0s 111us/step - loss: 0.8568\n",
      "Epoch 5/100\n",
      "18/18 [==============================] - 0s 55us/step - loss: 0.8282\n",
      "Epoch 6/100\n",
      "18/18 [==============================] - 0s 55us/step - loss: 0.8007\n",
      "Epoch 7/100\n",
      "18/18 [==============================] - 0s 55us/step - loss: 0.7742\n",
      "Epoch 8/100\n",
      "18/18 [==============================] - 0s 55us/step - loss: 0.7486\n",
      "Epoch 9/100\n",
      "18/18 [==============================] - 0s 55us/step - loss: 0.7240\n",
      "Epoch 10/100\n",
      "18/18 [==============================] - 0s 54us/step - loss: 0.7003\n",
      "Epoch 11/100\n",
      "18/18 [==============================] - 0s 111us/step - loss: 0.6775\n",
      "Epoch 12/100\n",
      "18/18 [==============================] - 0s 55us/step - loss: 0.6555\n",
      "Epoch 13/100\n",
      "18/18 [==============================] - 0s 55us/step - loss: 0.6342\n",
      "Epoch 14/100\n",
      "18/18 [==============================] - 0s 111us/step - loss: 0.6137\n",
      "Epoch 15/100\n",
      "18/18 [==============================] - 0s 111us/step - loss: 0.5939\n",
      "Epoch 16/100\n",
      "18/18 [==============================] - 0s 111us/step - loss: 0.5748\n",
      "Epoch 17/100\n",
      "18/18 [==============================] - 0s 54us/step - loss: 0.5564\n",
      "Epoch 18/100\n",
      "18/18 [==============================] - 0s 111us/step - loss: 0.5386\n",
      "Epoch 19/100\n",
      "18/18 [==============================] - 0s 111us/step - loss: 0.5214\n",
      "Epoch 20/100\n",
      "18/18 [==============================] - 0s 55us/step - loss: 0.5048\n",
      "Epoch 21/100\n",
      "18/18 [==============================] - 0s 55us/step - loss: 0.4888\n",
      "Epoch 22/100\n",
      "18/18 [==============================] - 0s 55us/step - loss: 0.4733\n",
      "Epoch 23/100\n",
      "18/18 [==============================] - 0s 56us/step - loss: 0.4583\n",
      "Epoch 24/100\n",
      "18/18 [==============================] - 0s 55us/step - loss: 0.4438\n",
      "Epoch 25/100\n",
      "18/18 [==============================] - 0s 56us/step - loss: 0.4298\n",
      "Epoch 26/100\n",
      "18/18 [==============================] - 0s 55us/step - loss: 0.4163\n",
      "Epoch 27/100\n",
      "18/18 [==============================] - 0s 55us/step - loss: 0.4033\n",
      "Epoch 28/100\n",
      "18/18 [==============================] - 0s 55us/step - loss: 0.3906\n",
      "Epoch 29/100\n",
      "18/18 [==============================] - 0s 55us/step - loss: 0.3784\n",
      "Epoch 30/100\n",
      "18/18 [==============================] - 0s 55us/step - loss: 0.3666\n",
      "Epoch 31/100\n",
      "18/18 [==============================] - 0s 55us/step - loss: 0.3552\n",
      "Epoch 32/100\n",
      "18/18 [==============================] - 0s 55us/step - loss: 0.3442\n",
      "Epoch 33/100\n",
      "18/18 [==============================] - 0s 55us/step - loss: 0.3335\n",
      "Epoch 34/100\n",
      "18/18 [==============================] - 0s 55us/step - loss: 0.3231\n",
      "Epoch 35/100\n",
      "18/18 [==============================] - 0s 55us/step - loss: 0.3132\n",
      "Epoch 36/100\n",
      "18/18 [==============================] - 0s 55us/step - loss: 0.3035\n",
      "Epoch 37/100\n",
      "18/18 [==============================] - 0s 54us/step - loss: 0.2941\n",
      "Epoch 38/100\n",
      "18/18 [==============================] - 0s 55us/step - loss: 0.2851\n",
      "Epoch 39/100\n",
      "18/18 [==============================] - 0s 56us/step - loss: 0.2763\n",
      "Epoch 40/100\n",
      "18/18 [==============================] - 0s 55us/step - loss: 0.2679\n",
      "Epoch 41/100\n",
      "18/18 [==============================] - 0s 54us/step - loss: 0.2597\n",
      "Epoch 42/100\n",
      "18/18 [==============================] - 0s 55us/step - loss: 0.2518\n",
      "Epoch 43/100\n",
      "18/18 [==============================] - 0s 55us/step - loss: 0.2441\n",
      "Epoch 44/100\n",
      "18/18 [==============================] - 0s 111us/step - loss: 0.2367\n",
      "Epoch 45/100\n",
      "18/18 [==============================] - 0s 57us/step - loss: 0.2295\n",
      "Epoch 46/100\n",
      "18/18 [==============================] - 0s 55us/step - loss: 0.2225\n",
      "Epoch 47/100\n",
      "18/18 [==============================] - 0s 55us/step - loss: 0.2158\n",
      "Epoch 48/100\n",
      "18/18 [==============================] - 0s 55us/step - loss: 0.2093\n",
      "Epoch 49/100\n",
      "18/18 [==============================] - 0s 55us/step - loss: 0.2029\n",
      "Epoch 50/100\n",
      "18/18 [==============================] - 0s 110us/step - loss: 0.1968\n",
      "Epoch 51/100\n",
      "18/18 [==============================] - 0s 55us/step - loss: 0.1909\n",
      "Epoch 52/100\n",
      "18/18 [==============================] - 0s 55us/step - loss: 0.1852\n",
      "Epoch 53/100\n",
      "18/18 [==============================] - 0s 55us/step - loss: 0.1796\n",
      "Epoch 54/100\n",
      "18/18 [==============================] - 0s 55us/step - loss: 0.1743\n",
      "Epoch 55/100\n",
      "18/18 [==============================] - 0s 55us/step - loss: 0.1691\n",
      "Epoch 56/100\n",
      "18/18 [==============================] - 0s 55us/step - loss: 0.1640\n",
      "Epoch 57/100\n",
      "18/18 [==============================] - 0s 55us/step - loss: 0.1592\n",
      "Epoch 58/100\n",
      "18/18 [==============================] - 0s 111us/step - loss: 0.1544\n",
      "Epoch 59/100\n",
      "18/18 [==============================] - 0s 111us/step - loss: 0.1499\n",
      "Epoch 60/100\n",
      "18/18 [==============================] - 0s 55us/step - loss: 0.1454\n",
      "Epoch 61/100\n",
      "18/18 [==============================] - 0s 55us/step - loss: 0.1411\n",
      "Epoch 62/100\n",
      "18/18 [==============================] - 0s 55us/step - loss: 0.1370\n",
      "Epoch 63/100\n",
      "18/18 [==============================] - 0s 55us/step - loss: 0.1329\n",
      "Epoch 64/100\n",
      "18/18 [==============================] - 0s 111us/step - loss: 0.1290\n",
      "Epoch 65/100\n",
      "18/18 [==============================] - 0s 111us/step - loss: 0.1253\n",
      "Epoch 66/100\n",
      "18/18 [==============================] - 0s 56us/step - loss: 0.1216\n",
      "Epoch 67/100\n",
      "18/18 [==============================] - 0s 55us/step - loss: 0.1180\n",
      "Epoch 68/100\n",
      "18/18 [==============================] - 0s 111us/step - loss: 0.1146\n",
      "Epoch 69/100\n",
      "18/18 [==============================] - 0s 55us/step - loss: 0.1113\n",
      "Epoch 70/100\n",
      "18/18 [==============================] - 0s 55us/step - loss: 0.1080\n",
      "Epoch 71/100\n",
      "18/18 [==============================] - 0s 55us/step - loss: 0.1049\n",
      "Epoch 72/100\n",
      "18/18 [==============================] - 0s 55us/step - loss: 0.1019\n",
      "Epoch 73/100\n",
      "18/18 [==============================] - 0s 55us/step - loss: 0.0989\n",
      "Epoch 74/100\n",
      "18/18 [==============================] - 0s 111us/step - loss: 0.0961\n",
      "Epoch 75/100\n",
      "18/18 [==============================] - 0s 54us/step - loss: 0.0933\n",
      "Epoch 76/100\n",
      "18/18 [==============================] - 0s 111us/step - loss: 0.0907\n",
      "Epoch 77/100\n",
      "18/18 [==============================] - 0s 55us/step - loss: 0.0881\n",
      "Epoch 78/100\n",
      "18/18 [==============================] - 0s 56us/step - loss: 0.0856\n",
      "Epoch 79/100\n",
      "18/18 [==============================] - 0s 55us/step - loss: 0.0831\n",
      "Epoch 80/100\n",
      "18/18 [==============================] - 0s 111us/step - loss: 0.0808\n",
      "Epoch 81/100\n",
      "18/18 [==============================] - 0s 55us/step - loss: 0.0785\n",
      "Epoch 82/100\n",
      "18/18 [==============================] - 0s 55us/step - loss: 0.0762\n",
      "Epoch 83/100\n",
      "18/18 [==============================] - 0s 54us/step - loss: 0.0741\n",
      "Epoch 84/100\n",
      "18/18 [==============================] - 0s 56us/step - loss: 0.0720\n",
      "Epoch 85/100\n",
      "18/18 [==============================] - 0s 110us/step - loss: 0.0700\n",
      "Epoch 86/100\n",
      "18/18 [==============================] - 0s 111us/step - loss: 0.0680\n",
      "Epoch 87/100\n",
      "18/18 [==============================] - 0s 55us/step - loss: 0.0661\n",
      "Epoch 88/100\n",
      "18/18 [==============================] - 0s 55us/step - loss: 0.0643\n",
      "Epoch 89/100\n",
      "18/18 [==============================] - 0s 55us/step - loss: 0.0625\n",
      "Epoch 90/100\n",
      "18/18 [==============================] - 0s 111us/step - loss: 0.0607\n",
      "Epoch 91/100\n",
      "18/18 [==============================] - 0s 57us/step - loss: 0.0591\n",
      "Epoch 92/100\n",
      "18/18 [==============================] - 0s 55us/step - loss: 0.0574\n",
      "Epoch 93/100\n",
      "18/18 [==============================] - 0s 55us/step - loss: 0.0558\n",
      "Epoch 94/100\n",
      "18/18 [==============================] - 0s 111us/step - loss: 0.0543\n",
      "Epoch 95/100\n",
      "18/18 [==============================] - 0s 55us/step - loss: 0.0528\n",
      "Epoch 96/100\n",
      "18/18 [==============================] - 0s 55us/step - loss: 0.0514\n",
      "Epoch 97/100\n",
      "18/18 [==============================] - 0s 55us/step - loss: 0.0500\n",
      "Epoch 98/100\n",
      "18/18 [==============================] - 0s 55us/step - loss: 0.0486\n",
      "Epoch 99/100\n",
      "18/18 [==============================] - 0s 55us/step - loss: 0.0473\n",
      "Epoch 100/100\n",
      "18/18 [==============================] - 0s 55us/step - loss: 0.0460\n"
     ]
    }
   ],
   "source": [
    "history2 = model2.fit(X_train, Y_train, epochs=100)"
   ]
  },
  {
   "cell_type": "code",
   "execution_count": 29,
   "metadata": {},
   "outputs": [
    {
     "data": {
      "image/png": "[encoded data removed]",
      "text/plain": [
       "<Figure size 432x288 with 1 Axes>"
      ]
     },
     "metadata": {
      "needs_background": "light"
     },
     "output_type": "display_data"
    }
   ],
   "source": [
    "plt.plot(history2.history[\"loss\"])\n",
    "plt.title(\"Loss\")\n",
    "plt.show() "
   ]
  },
  {
   "cell_type": "code",
   "execution_count": 38,
   "metadata": {},
   "outputs": [
    {
     "data": {
      "image/png": "[encoded data removed]",
      "text/plain": [
       "<Figure size 432x288 with 1 Axes>"
      ]
     },
     "metadata": {
      "needs_background": "light"
     },
     "output_type": "display_data"
    }
   ],
   "source": [
    "plt.plot(Y_train, 'ro-', label=\"target\")\n",
    "plt.plot(model2.predict(X_train[:, :, :]), 'bs-', label=\"output\")\n",
    "plt.xlim(-0.5, 20.5)\n",
    "plt.ylim(-1.1, 1.1)\n",
    "plt.legend()\n",
    "plt.title(\"After training\")\n",
    "plt.show()"
   ]
  },
  {
   "cell_type": "markdown",
   "metadata": {},
   "source": [
    "### RNN Node가 20인 경우"
   ]
  },
  {
   "cell_type": "code",
   "execution_count": 30,
   "metadata": {},
   "outputs": [
    {
     "name": "stdout",
     "output_type": "stream",
     "text": [
      "Model: \"sequential_4\"\n",
      "_________________________________________________________________\n",
      "Layer (type)                 Output Shape              Param #   \n",
      "=================================================================\n",
      "simple_rnn_4 (SimpleRNN)     (None, 20)                440       \n",
      "_________________________________________________________________\n",
      "dense_4 (Dense)              (None, 1)                 21        \n",
      "=================================================================\n",
      "Total params: 461\n",
      "Trainable params: 461\n",
      "Non-trainable params: 0\n",
      "_________________________________________________________________\n"
     ]
    }
   ],
   "source": [
    "model3 = Sequential()\n",
    "model3.add(SimpleRNN(20, input_shape=(3, 1)))\n",
    "model3.add(Dense(1, activation=\"linear\"))\n",
    "model3.summary()"
   ]
  },
  {
   "cell_type": "code",
   "execution_count": 34,
   "metadata": {},
   "outputs": [],
   "source": [
    "model3.compile(loss='mse', optimizer='sgd')"
   ]
  },
  {
   "cell_type": "code",
   "execution_count": 35,
   "metadata": {},
   "outputs": [
    {
     "data": {
      "image/png": "[encoded data removed]",
      "text/plain": [
       "<Figure size 432x288 with 1 Axes>"
      ]
     },
     "metadata": {
      "needs_background": "light"
     },
     "output_type": "display_data"
    }
   ],
   "source": [
    "plt.plot(Y_train, 'ro-', label=\"target\")\n",
    "plt.plot(model3.predict(X_train[:, :, :]), 'bs-', label=\"output\")\n",
    "plt.xlim(-0.5, 20.5)\n",
    "plt.ylim(-1.1, 1.1)\n",
    "plt.legend()\n",
    "plt.title(\"Before training\")\n",
    "plt.show()"
   ]
  },
  {
   "cell_type": "code",
   "execution_count": 36,
   "metadata": {},
   "outputs": [
    {
     "name": "stdout",
     "output_type": "stream",
     "text": [
      "Epoch 1/100\n",
      "18/18 [==============================] - 0s 5ms/step - loss: 0.1425\n",
      "Epoch 2/100\n",
      "18/18 [==============================] - 0s 0us/step - loss: 0.1283\n",
      "Epoch 3/100\n",
      "18/18 [==============================] - 0s 335us/step - loss: 0.1156\n",
      "Epoch 4/100\n",
      "18/18 [==============================] - 0s 57us/step - loss: 0.1043\n",
      "Epoch 5/100\n",
      "18/18 [==============================] - 0s 55us/step - loss: 0.0942\n",
      "Epoch 6/100\n",
      "18/18 [==============================] - 0s 55us/step - loss: 0.0851\n",
      "Epoch 7/100\n",
      "18/18 [==============================] - 0s 111us/step - loss: 0.0769\n",
      "Epoch 8/100\n",
      "18/18 [==============================] - 0s 55us/step - loss: 0.0696\n",
      "Epoch 9/100\n",
      "18/18 [==============================] - 0s 111us/step - loss: 0.0630\n",
      "Epoch 10/100\n",
      "18/18 [==============================] - 0s 55us/step - loss: 0.0571\n",
      "Epoch 11/100\n",
      "18/18 [==============================] - 0s 111us/step - loss: 0.0517\n",
      "Epoch 12/100\n",
      "18/18 [==============================] - 0s 111us/step - loss: 0.0469\n",
      "Epoch 13/100\n",
      "18/18 [==============================] - 0s 111us/step - loss: 0.0426\n",
      "Epoch 14/100\n",
      "18/18 [==============================] - 0s 55us/step - loss: 0.0386\n",
      "Epoch 15/100\n",
      "18/18 [==============================] - 0s 55us/step - loss: 0.0351\n",
      "Epoch 16/100\n",
      "18/18 [==============================] - 0s 55us/step - loss: 0.0319\n",
      "Epoch 17/100\n",
      "18/18 [==============================] - 0s 55us/step - loss: 0.0290\n",
      "Epoch 18/100\n",
      "18/18 [==============================] - 0s 55us/step - loss: 0.0264\n",
      "Epoch 19/100\n",
      "18/18 [==============================] - 0s 58us/step - loss: 0.0240\n",
      "Epoch 20/100\n",
      "18/18 [==============================] - 0s 55us/step - loss: 0.0218\n",
      "Epoch 21/100\n",
      "18/18 [==============================] - 0s 111us/step - loss: 0.0199\n",
      "Epoch 22/100\n",
      "18/18 [==============================] - 0s 55us/step - loss: 0.0181\n",
      "Epoch 23/100\n",
      "18/18 [==============================] - 0s 57us/step - loss: 0.0165\n",
      "Epoch 24/100\n",
      "18/18 [==============================] - 0s 55us/step - loss: 0.0150\n",
      "Epoch 25/100\n",
      "18/18 [==============================] - 0s 55us/step - loss: 0.0137\n",
      "Epoch 26/100\n",
      "18/18 [==============================] - 0s 55us/step - loss: 0.0125\n",
      "Epoch 27/100\n",
      "18/18 [==============================] - 0s 111us/step - loss: 0.0114\n",
      "Epoch 28/100\n",
      "18/18 [==============================] - 0s 55us/step - loss: 0.0104\n",
      "Epoch 29/100\n",
      "18/18 [==============================] - 0s 110us/step - loss: 0.0095\n",
      "Epoch 30/100\n",
      "18/18 [==============================] - 0s 111us/step - loss: 0.0087\n",
      "Epoch 31/100\n",
      "18/18 [==============================] - 0s 55us/step - loss: 0.0079\n",
      "Epoch 32/100\n",
      "18/18 [==============================] - 0s 55us/step - loss: 0.0072\n",
      "Epoch 33/100\n",
      "18/18 [==============================] - 0s 53us/step - loss: 0.0066\n",
      "Epoch 34/100\n",
      "18/18 [==============================] - 0s 111us/step - loss: 0.0061\n",
      "Epoch 35/100\n",
      "18/18 [==============================] - 0s 57us/step - loss: 0.0056\n",
      "Epoch 36/100\n",
      "18/18 [==============================] - 0s 55us/step - loss: 0.0051\n",
      "Epoch 37/100\n",
      "18/18 [==============================] - 0s 55us/step - loss: 0.0047\n",
      "Epoch 38/100\n",
      "18/18 [==============================] - 0s 56us/step - loss: 0.0043\n",
      "Epoch 39/100\n",
      "18/18 [==============================] - 0s 111us/step - loss: 0.0039\n",
      "Epoch 40/100\n",
      "18/18 [==============================] - 0s 55us/step - loss: 0.0036\n",
      "Epoch 41/100\n",
      "18/18 [==============================] - 0s 53us/step - loss: 0.0033\n",
      "Epoch 42/100\n",
      "18/18 [==============================] - 0s 55us/step - loss: 0.0031\n",
      "Epoch 43/100\n",
      "18/18 [==============================] - 0s 111us/step - loss: 0.0028\n",
      "Epoch 44/100\n",
      "18/18 [==============================] - 0s 55us/step - loss: 0.0026\n",
      "Epoch 45/100\n",
      "18/18 [==============================] - 0s 54us/step - loss: 0.0024\n",
      "Epoch 46/100\n",
      "18/18 [==============================] - 0s 111us/step - loss: 0.0022\n",
      "Epoch 47/100\n",
      "18/18 [==============================] - 0s 56us/step - loss: 0.0021\n",
      "Epoch 48/100\n",
      "18/18 [==============================] - 0s 55us/step - loss: 0.0019\n",
      "Epoch 49/100\n",
      "18/18 [==============================] - 0s 55us/step - loss: 0.0018\n",
      "Epoch 50/100\n",
      "18/18 [==============================] - 0s 56us/step - loss: 0.0016\n",
      "Epoch 51/100\n",
      "18/18 [==============================] - 0s 111us/step - loss: 0.0015\n",
      "Epoch 52/100\n",
      "18/18 [==============================] - 0s 111us/step - loss: 0.0014\n",
      "Epoch 53/100\n",
      "18/18 [==============================] - 0s 55us/step - loss: 0.0013\n",
      "Epoch 54/100\n",
      "18/18 [==============================] - 0s 55us/step - loss: 0.0012\n",
      "Epoch 55/100\n",
      "18/18 [==============================] - 0s 55us/step - loss: 0.0012\n",
      "Epoch 56/100\n",
      "18/18 [==============================] - 0s 55us/step - loss: 0.0011\n",
      "Epoch 57/100\n",
      "18/18 [==============================] - 0s 111us/step - loss: 0.0010\n",
      "Epoch 58/100\n",
      "18/18 [==============================] - 0s 55us/step - loss: 9.6664e-04\n",
      "Epoch 59/100\n",
      "18/18 [==============================] - 0s 54us/step - loss: 9.1271e-04\n",
      "Epoch 60/100\n",
      "18/18 [==============================] - 0s 55us/step - loss: 8.6358e-04\n",
      "Epoch 61/100\n",
      "18/18 [==============================] - 0s 55us/step - loss: 8.1881e-04\n",
      "Epoch 62/100\n",
      "18/18 [==============================] - 0s 55us/step - loss: 7.7802e-04\n",
      "Epoch 63/100\n",
      "18/18 [==============================] - 0s 111us/step - loss: 7.4086e-04\n",
      "Epoch 64/100\n",
      "18/18 [==============================] - 0s 56us/step - loss: 7.0699e-04\n",
      "Epoch 65/100\n",
      "18/18 [==============================] - 0s 55us/step - loss: 6.7613e-04\n",
      "Epoch 66/100\n",
      "18/18 [==============================] - 0s 55us/step - loss: 6.4800e-04\n",
      "Epoch 67/100\n",
      "18/18 [==============================] - 0s 55us/step - loss: 6.2237e-04\n",
      "Epoch 68/100\n",
      "18/18 [==============================] - 0s 55us/step - loss: 5.9901e-04\n",
      "Epoch 69/100\n",
      "18/18 [==============================] - 0s 55us/step - loss: 5.7770e-04\n",
      "Epoch 70/100\n",
      "18/18 [==============================] - 0s 111us/step - loss: 5.5828e-04\n",
      "Epoch 71/100\n",
      "18/18 [==============================] - 0s 110us/step - loss: 5.4058e-04\n",
      "Epoch 72/100\n",
      "18/18 [==============================] - 0s 55us/step - loss: 5.2444e-04\n",
      "Epoch 73/100\n",
      "18/18 [==============================] - 0s 55us/step - loss: 5.0971e-04\n",
      "Epoch 74/100\n",
      "18/18 [==============================] - 0s 55us/step - loss: 4.9628e-04\n",
      "Epoch 75/100\n",
      "18/18 [==============================] - 0s 110us/step - loss: 4.8402e-04\n",
      "Epoch 76/100\n",
      "18/18 [==============================] - 0s 55us/step - loss: 4.7284e-04\n",
      "Epoch 77/100\n",
      "18/18 [==============================] - 0s 55us/step - loss: 4.6264e-04\n",
      "Epoch 78/100\n",
      "18/18 [==============================] - 0s 55us/step - loss: 4.5333e-04\n",
      "Epoch 79/100\n",
      "18/18 [==============================] - 0s 53us/step - loss: 4.4482e-04\n",
      "Epoch 80/100\n",
      "18/18 [==============================] - 0s 54us/step - loss: 4.3705e-04\n",
      "Epoch 81/100\n",
      "18/18 [==============================] - 0s 55us/step - loss: 4.2996e-04\n",
      "Epoch 82/100\n",
      "18/18 [==============================] - 0s 111us/step - loss: 4.2347e-04\n",
      "Epoch 83/100\n",
      "18/18 [==============================] - 0s 55us/step - loss: 4.1754e-04\n",
      "Epoch 84/100\n",
      "18/18 [==============================] - 0s 55us/step - loss: 4.1212e-04\n",
      "Epoch 85/100\n",
      "18/18 [==============================] - 0s 55us/step - loss: 4.0716e-04\n",
      "Epoch 86/100\n",
      "18/18 [==============================] - 0s 54us/step - loss: 4.0262e-04\n",
      "Epoch 87/100\n",
      "18/18 [==============================] - 0s 55us/step - loss: 3.9847e-04\n",
      "Epoch 88/100\n",
      "18/18 [==============================] - 0s 57us/step - loss: 3.9466e-04\n",
      "Epoch 89/100\n",
      "18/18 [==============================] - 0s 55us/step - loss: 3.9117e-04\n",
      "Epoch 90/100\n",
      "18/18 [==============================] - 0s 55us/step - loss: 3.8797e-04\n",
      "Epoch 91/100\n",
      "18/18 [==============================] - 0s 55us/step - loss: 3.8503e-04\n",
      "Epoch 92/100\n",
      "18/18 [==============================] - 0s 55us/step - loss: 3.8233e-04\n",
      "Epoch 93/100\n",
      "18/18 [==============================] - 0s 55us/step - loss: 3.7985e-04\n",
      "Epoch 94/100\n",
      "18/18 [==============================] - 0s 55us/step - loss: 3.7756e-04\n",
      "Epoch 95/100\n",
      "18/18 [==============================] - 0s 55us/step - loss: 3.7546e-04\n",
      "Epoch 96/100\n",
      "18/18 [==============================] - 0s 55us/step - loss: 3.7352e-04\n",
      "Epoch 97/100\n",
      "18/18 [==============================] - 0s 55us/step - loss: 3.7174e-04\n",
      "Epoch 98/100\n",
      "18/18 [==============================] - 0s 111us/step - loss: 3.7008e-04\n"
     ]
    },
    {
     "name": "stdout",
     "output_type": "stream",
     "text": [
      "Epoch 99/100\n",
      "18/18 [==============================] - 0s 55us/step - loss: 3.6856e-04\n",
      "Epoch 100/100\n",
      "18/18 [==============================] - 0s 54us/step - loss: 3.6714e-04\n"
     ]
    }
   ],
   "source": [
    "history3 = model3.fit(X_train, Y_train, epochs=100)"
   ]
  },
  {
   "cell_type": "code",
   "execution_count": 37,
   "metadata": {},
   "outputs": [
    {
     "data": {
      "image/png": "[encoded data removed]",
      "text/plain": [
       "<Figure size 432x288 with 1 Axes>"
      ]
     },
     "metadata": {
      "needs_background": "light"
     },
     "output_type": "display_data"
    }
   ],
   "source": [
    "plt.plot(history3.history[\"loss\"])\n",
    "plt.title(\"Loss\")\n",
    "plt.show() "
   ]
  },
  {
   "cell_type": "code",
   "execution_count": 39,
   "metadata": {},
   "outputs": [
    {
     "data": {
      "image/png": "[encoded data removed]",
      "text/plain": [
       "<Figure size 432x288 with 1 Axes>"
      ]
     },
     "metadata": {
      "needs_background": "light"
     },
     "output_type": "display_data"
    }
   ],
   "source": [
    "plt.plot(Y_train, 'ro-', label=\"target\")\n",
    "plt.plot(model3.predict(X_train[:, :, :]), 'bs-', label=\"output\")\n",
    "plt.xlim(-0.5, 20.5)\n",
    "plt.ylim(-1.1, 1.1)\n",
    "plt.legend()\n",
    "plt.title(\"After training\")\n",
    "plt.show()"
   ]
  },
  {
   "cell_type": "code",
   "execution_count": null,
   "metadata": {},
   "outputs": [],
   "source": []
  }
 ],
 "metadata": {
  "kernelspec": {
   "display_name": "Python 3",
   "language": "python",
   "name": "python3"
  },
  "language_info": {
   "codemirror_mode": {
    "name": "ipython",
    "version": 3
   },
   "file_extension": ".py",
   "mimetype": "text/x-python",
   "name": "python",
   "nbconvert_exporter": "python",
   "pygments_lexer": "ipython3",
   "version": "3.7.7"
  }
 },
 "nbformat": 4,
 "nbformat_minor": 2
}
