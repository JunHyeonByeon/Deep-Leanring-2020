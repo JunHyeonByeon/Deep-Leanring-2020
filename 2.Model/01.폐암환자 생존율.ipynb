{
 "cells": [
  {
   "cell_type": "markdown",
   "metadata": {},
   "source": [
    "# 폐암 수술 환자의 생존율 데이터 분석"
   ]
  },
  {
   "cell_type": "code",
   "execution_count": 1,
   "metadata": {},
   "outputs": [
    {
     "data": {
      "text/plain": [
       "'2.1.0'"
      ]
     },
     "execution_count": 1,
     "metadata": {},
     "output_type": "execute_result"
    }
   ],
   "source": [
    "# 필요한 라이브러리\n",
    "import numpy as np\n",
    "import tensorflow as tf\n",
    "tf.__version__"
   ]
  },
  {
   "cell_type": "code",
   "execution_count": 2,
   "metadata": {},
   "outputs": [],
   "source": [
    "from tensorflow.keras.models import Sequential\n",
    "from tensorflow.keras.layers import Dense"
   ]
  },
  {
   "cell_type": "code",
   "execution_count": 3,
   "metadata": {},
   "outputs": [],
   "source": [
    "# 실행할 때마다 같은 결과를 출력하기 위한 seed 값 설정\n",
    "seed = 2020\n",
    "np.random.seed(seed)\n",
    "tf.random.set_seed(seed)"
   ]
  },
  {
   "cell_type": "code",
   "execution_count": 4,
   "metadata": {},
   "outputs": [
    {
     "data": {
      "text/plain": [
       "array([[293.  ,   1.  ,   3.8 , ...,   0.  ,  62.  ,   0.  ],\n",
       "       [  1.  ,   2.  ,   2.88, ...,   0.  ,  60.  ,   0.  ],\n",
       "       [  8.  ,   2.  ,   3.19, ...,   0.  ,  66.  ,   1.  ],\n",
       "       ...,\n",
       "       [406.  ,   6.  ,   5.36, ...,   0.  ,  62.  ,   0.  ],\n",
       "       [ 25.  ,   8.  ,   4.32, ...,   0.  ,  58.  ,   1.  ],\n",
       "       [447.  ,   8.  ,   5.2 , ...,   0.  ,  49.  ,   0.  ]])"
      ]
     },
     "execution_count": 4,
     "metadata": {},
     "output_type": "execute_result"
    }
   ],
   "source": [
    "# 준비된 수술 환자 데이터를 불러들임\n",
    "Data_set = np.loadtxt(\"./dataset/ThoraricSurgery.csv\", delimiter=\",\")\n",
    "Data_set"
   ]
  },
  {
   "cell_type": "code",
   "execution_count": 5,
   "metadata": {},
   "outputs": [
    {
     "data": {
      "text/plain": [
       "((470, 17), (470,))"
      ]
     },
     "execution_count": 5,
     "metadata": {},
     "output_type": "execute_result"
    }
   ],
   "source": [
    "# 환자의 기록과 수술 결과를 X와 Y로 구분하여 저장\n",
    "X = Data_set[:, 0:17]\n",
    "Y = Data_set[:, 17]\n",
    "X.shape, Y.shape"
   ]
  },
  {
   "cell_type": "code",
   "execution_count": 6,
   "metadata": {},
   "outputs": [],
   "source": [
    "# 80% Train set, 20% Test set으로 분리\n",
    "from sklearn.model_selection import train_test_split\n",
    "x_train, x_test, y_train, y_test = \\\n",
    "    train_test_split(X, Y, test_size=0.2, shuffle=True, stratify=Y, random_state=2020)"
   ]
  },
  {
   "cell_type": "code",
   "execution_count": 7,
   "metadata": {},
   "outputs": [
    {
     "name": "stdout",
     "output_type": "stream",
     "text": [
      "Model: \"sequential\"\n",
      "_________________________________________________________________\n",
      "Layer (type)                 Output Shape              Param #   \n",
      "=================================================================\n",
      "dense (Dense)                (None, 30)                540       \n",
      "_________________________________________________________________\n",
      "dense_1 (Dense)              (None, 1)                 31        \n",
      "=================================================================\n",
      "Total params: 571\n",
      "Trainable params: 571\n",
      "Non-trainable params: 0\n",
      "_________________________________________________________________\n"
     ]
    }
   ],
   "source": [
    "# 딥러닝 모델 설정\n",
    "model = Sequential([\n",
    "    Dense(30, input_shape=(17,), activation='relu'),\n",
    "    Dense(1, activation='sigmoid')\n",
    "])\n",
    "model.summary()"
   ]
  },
  {
   "cell_type": "code",
   "execution_count": 8,
   "metadata": {},
   "outputs": [],
   "source": [
    "# 딥러닝 환경 설정 (오차함수, 최적화함수)\n",
    "model.compile(loss='binary_crossentropy', optimizer='adam', metrics=['accuracy'])"
   ]
  },
  {
   "cell_type": "code",
   "execution_count": 9,
   "metadata": {},
   "outputs": [
    {
     "name": "stdout",
     "output_type": "stream",
     "text": [
      "Train on 300 samples, validate on 76 samples\n",
      "Epoch 1/20\n",
      "300/300 [==============================] - 0s 1ms/sample - loss: 7.7712 - accuracy: 0.5333 - val_loss: 2.8179 - val_accuracy: 0.8158\n",
      "Epoch 2/20\n",
      "300/300 [==============================] - 0s 123us/sample - loss: 2.4820 - accuracy: 0.8400 - val_loss: 2.0174 - val_accuracy: 0.8026\n",
      "Epoch 3/20\n",
      "300/300 [==============================] - 0s 119us/sample - loss: 1.7386 - accuracy: 0.7867 - val_loss: 1.4741 - val_accuracy: 0.7895\n",
      "Epoch 4/20\n",
      "300/300 [==============================] - 0s 118us/sample - loss: 1.1291 - accuracy: 0.7867 - val_loss: 0.9313 - val_accuracy: 0.8289\n",
      "Epoch 5/20\n",
      "300/300 [==============================] - 0s 122us/sample - loss: 0.6603 - accuracy: 0.8067 - val_loss: 0.7672 - val_accuracy: 0.8289\n",
      "Epoch 6/20\n",
      "300/300 [==============================] - 0s 116us/sample - loss: 0.5663 - accuracy: 0.8300 - val_loss: 0.7330 - val_accuracy: 0.8289\n",
      "Epoch 7/20\n",
      "300/300 [==============================] - 0s 114us/sample - loss: 0.5571 - accuracy: 0.8133 - val_loss: 0.8037 - val_accuracy: 0.8289\n",
      "Epoch 8/20\n",
      "300/300 [==============================] - 0s 115us/sample - loss: 0.5188 - accuracy: 0.8300 - val_loss: 0.7145 - val_accuracy: 0.8158\n",
      "Epoch 9/20\n",
      "300/300 [==============================] - 0s 115us/sample - loss: 0.5399 - accuracy: 0.8233 - val_loss: 0.7429 - val_accuracy: 0.7237\n",
      "Epoch 10/20\n",
      "300/300 [==============================] - 0s 117us/sample - loss: 0.5006 - accuracy: 0.8433 - val_loss: 0.7270 - val_accuracy: 0.8289\n",
      "Epoch 11/20\n",
      "300/300 [==============================] - 0s 119us/sample - loss: 0.4525 - accuracy: 0.8567 - val_loss: 0.6745 - val_accuracy: 0.8289\n",
      "Epoch 12/20\n",
      "300/300 [==============================] - 0s 119us/sample - loss: 0.4576 - accuracy: 0.8433 - val_loss: 0.6814 - val_accuracy: 0.8026\n",
      "Epoch 13/20\n",
      "300/300 [==============================] - 0s 118us/sample - loss: 0.4733 - accuracy: 0.8200 - val_loss: 0.8162 - val_accuracy: 0.8289\n",
      "Epoch 14/20\n",
      "300/300 [==============================] - 0s 118us/sample - loss: 0.5096 - accuracy: 0.8267 - val_loss: 0.7304 - val_accuracy: 0.8289\n",
      "Epoch 15/20\n",
      "300/300 [==============================] - ETA: 0s - loss: 0.4290 - accuracy: 0.90 - 0s 121us/sample - loss: 0.5462 - accuracy: 0.8300 - val_loss: 0.7367 - val_accuracy: 0.8289\n",
      "Epoch 16/20\n",
      "300/300 [==============================] - 0s 124us/sample - loss: 0.4353 - accuracy: 0.8433 - val_loss: 0.6532 - val_accuracy: 0.8289\n",
      "Epoch 17/20\n",
      "300/300 [==============================] - 0s 118us/sample - loss: 0.4441 - accuracy: 0.8300 - val_loss: 0.8023 - val_accuracy: 0.8289\n",
      "Epoch 18/20\n",
      "300/300 [==============================] - 0s 119us/sample - loss: 0.5188 - accuracy: 0.8200 - val_loss: 0.6303 - val_accuracy: 0.8289\n",
      "Epoch 19/20\n",
      "300/300 [==============================] - 0s 121us/sample - loss: 0.4388 - accuracy: 0.8533 - val_loss: 0.6447 - val_accuracy: 0.8289\n",
      "Epoch 20/20\n",
      "300/300 [==============================] - 0s 118us/sample - loss: 0.4244 - accuracy: 0.8567 - val_loss: 0.6286 - val_accuracy: 0.8289\n"
     ]
    }
   ],
   "source": [
    "# 딥러닝 학습\n",
    "# Validation set의 비율을 20%\n",
    "history = model.fit(x_train, y_train, validation_split=0.2, epochs=20, batch_size=10)"
   ]
  },
  {
   "cell_type": "code",
   "execution_count": 10,
   "metadata": {},
   "outputs": [
    {
     "name": "stdout",
     "output_type": "stream",
     "text": [
      "94/94 - 0s - loss: 0.4732 - accuracy: 0.8404\n",
      "\n",
      " Accuracy: 0.8404\n"
     ]
    }
   ],
   "source": [
    "# 결과 출력\n",
    "# evaluate() returns the loss value & metrics values for the model \n",
    "print(\"\\n Accuracy: %.4f\" % (model.evaluate(x_test, y_test, verbose=2))[1])"
   ]
  },
  {
   "cell_type": "code",
   "execution_count": 11,
   "metadata": {},
   "outputs": [
    {
     "data": {
      "text/plain": [
       "<tensorflow.python.keras.callbacks.History at 0x2222319bb08>"
      ]
     },
     "execution_count": 11,
     "metadata": {},
     "output_type": "execute_result"
    }
   ],
   "source": [
    "history"
   ]
  },
  {
   "cell_type": "code",
   "execution_count": 12,
   "metadata": {},
   "outputs": [
    {
     "data": {
      "text/html": [
       "<div>\n",
       "<style scoped>\n",
       "    .dataframe tbody tr th:only-of-type {\n",
       "        vertical-align: middle;\n",
       "    }\n",
       "\n",
       "    .dataframe tbody tr th {\n",
       "        vertical-align: top;\n",
       "    }\n",
       "\n",
       "    .dataframe thead th {\n",
       "        text-align: right;\n",
       "    }\n",
       "</style>\n",
       "<table border=\"1\" class=\"dataframe\">\n",
       "  <thead>\n",
       "    <tr style=\"text-align: right;\">\n",
       "      <th></th>\n",
       "      <th>loss</th>\n",
       "      <th>accuracy</th>\n",
       "      <th>val_loss</th>\n",
       "      <th>val_accuracy</th>\n",
       "    </tr>\n",
       "  </thead>\n",
       "  <tbody>\n",
       "    <tr>\n",
       "      <th>0</th>\n",
       "      <td>7.771213</td>\n",
       "      <td>0.533333</td>\n",
       "      <td>2.817853</td>\n",
       "      <td>0.815789</td>\n",
       "    </tr>\n",
       "    <tr>\n",
       "      <th>1</th>\n",
       "      <td>2.481990</td>\n",
       "      <td>0.840000</td>\n",
       "      <td>2.017427</td>\n",
       "      <td>0.802632</td>\n",
       "    </tr>\n",
       "    <tr>\n",
       "      <th>2</th>\n",
       "      <td>1.738575</td>\n",
       "      <td>0.786667</td>\n",
       "      <td>1.474140</td>\n",
       "      <td>0.789474</td>\n",
       "    </tr>\n",
       "    <tr>\n",
       "      <th>3</th>\n",
       "      <td>1.129129</td>\n",
       "      <td>0.786667</td>\n",
       "      <td>0.931264</td>\n",
       "      <td>0.828947</td>\n",
       "    </tr>\n",
       "    <tr>\n",
       "      <th>4</th>\n",
       "      <td>0.660338</td>\n",
       "      <td>0.806667</td>\n",
       "      <td>0.767158</td>\n",
       "      <td>0.828947</td>\n",
       "    </tr>\n",
       "  </tbody>\n",
       "</table>\n",
       "</div>"
      ],
      "text/plain": [
       "       loss  accuracy  val_loss  val_accuracy\n",
       "0  7.771213  0.533333  2.817853      0.815789\n",
       "1  2.481990  0.840000  2.017427      0.802632\n",
       "2  1.738575  0.786667  1.474140      0.789474\n",
       "3  1.129129  0.786667  0.931264      0.828947\n",
       "4  0.660338  0.806667  0.767158      0.828947"
      ]
     },
     "execution_count": 12,
     "metadata": {},
     "output_type": "execute_result"
    }
   ],
   "source": [
    "import pandas as pd\n",
    "df = pd.DataFrame(data=history.history)\n",
    "df.head()"
   ]
  },
  {
   "cell_type": "markdown",
   "metadata": {},
   "source": [
    "### 향후에 아래 항목으로 이용 가능\n",
    "* history.history['accuracy']\n",
    "* history.history['val_accuracy']\n",
    "* history.history['loss']\n",
    "* history.history['val_loss']"
   ]
  },
  {
   "cell_type": "code",
   "execution_count": null,
   "metadata": {},
   "outputs": [],
   "source": []
  }
 ],
 "metadata": {
  "kernelspec": {
   "display_name": "Python 3",
   "language": "python",
   "name": "python3"
  },
  "language_info": {
   "codemirror_mode": {
    "name": "ipython",
    "version": 3
   },
   "file_extension": ".py",
   "mimetype": "text/x-python",
   "name": "python",
   "nbconvert_exporter": "python",
   "pygments_lexer": "ipython3",
   "version": "3.7.7"
  }
 },
 "nbformat": 4,
 "nbformat_minor": 4
}
