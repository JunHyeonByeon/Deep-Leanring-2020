{
 "cells": [
  {
   "cell_type": "markdown",
   "metadata": {},
   "source": [
    "# 폐암 수술 환자의 생존율 데이터 분석"
   ]
  },
  {
   "cell_type": "code",
   "execution_count": 1,
   "metadata": {},
   "outputs": [
    {
     "data": {
      "text/plain": [
       "'2.1.0'"
      ]
     },
     "execution_count": 1,
     "metadata": {},
     "output_type": "execute_result"
    }
   ],
   "source": [
    "# 필요한 라이브러리\n",
    "import numpy as np\n",
    "import tensorflow as tf\n",
    "tf.__version__"
   ]
  },
  {
   "cell_type": "code",
   "execution_count": 2,
   "metadata": {},
   "outputs": [],
   "source": [
    "from tensorflow.keras.models import Sequential\n",
    "from tensorflow.keras.layers import Dense"
   ]
  },
  {
   "cell_type": "code",
   "execution_count": 3,
   "metadata": {},
   "outputs": [],
   "source": [
    "# 실행할 때마다 같은 결과를 출력하기 위한 seed 값 설정\n",
    "seed = 0\n",
    "np.random.seed(seed)\n",
    "tf.random.set_seed(seed)"
   ]
  },
  {
   "cell_type": "code",
   "execution_count": 4,
   "metadata": {},
   "outputs": [
    {
     "data": {
      "text/plain": [
       "array([[293.  ,   1.  ,   3.8 , ...,   0.  ,  62.  ,   0.  ],\n",
       "       [  1.  ,   2.  ,   2.88, ...,   0.  ,  60.  ,   0.  ],\n",
       "       [  8.  ,   2.  ,   3.19, ...,   0.  ,  66.  ,   1.  ],\n",
       "       ...,\n",
       "       [406.  ,   6.  ,   5.36, ...,   0.  ,  62.  ,   0.  ],\n",
       "       [ 25.  ,   8.  ,   4.32, ...,   0.  ,  58.  ,   1.  ],\n",
       "       [447.  ,   8.  ,   5.2 , ...,   0.  ,  49.  ,   0.  ]])"
      ]
     },
     "execution_count": 4,
     "metadata": {},
     "output_type": "execute_result"
    }
   ],
   "source": [
    "# 준비된 수술 환자 데이터를 불러들임\n",
    "Data_set = np.loadtxt(\"./dataset/ThoraricSurgery.csv\", delimiter=\",\")\n",
    "Data_set"
   ]
  },
  {
   "cell_type": "code",
   "execution_count": 5,
   "metadata": {},
   "outputs": [
    {
     "data": {
      "text/plain": [
       "((470, 17), (470,))"
      ]
     },
     "execution_count": 5,
     "metadata": {},
     "output_type": "execute_result"
    }
   ],
   "source": [
    "# 환자의 기록과 수술 결과를 X와 Y로 구분하여 저장\n",
    "X = Data_set[:, 0:17]\n",
    "Y = Data_set[:, 17]\n",
    "X.shape, Y.shape"
   ]
  },
  {
   "cell_type": "code",
   "execution_count": 6,
   "metadata": {},
   "outputs": [],
   "source": [
    "# 80% Train set, 20% Test set으로 분리\n",
    "from sklearn.model_selection import train_test_split\n",
    "x_train, x_test, y_train, y_test = \\\n",
    "    train_test_split(X, Y, test_size=0.2, shuffle=True, stratify=Y, random_state=2019)"
   ]
  },
  {
   "cell_type": "code",
   "execution_count": 13,
   "metadata": {},
   "outputs": [
    {
     "name": "stdout",
     "output_type": "stream",
     "text": [
      "Model: \"sequential_1\"\n",
      "_________________________________________________________________\n",
      "Layer (type)                 Output Shape              Param #   \n",
      "=================================================================\n",
      "dense_2 (Dense)              (None, 24)                432       \n",
      "_________________________________________________________________\n",
      "dense_3 (Dense)              (None, 8)                 200       \n",
      "_________________________________________________________________\n",
      "dense_4 (Dense)              (None, 1)                 9         \n",
      "=================================================================\n",
      "Total params: 641\n",
      "Trainable params: 641\n",
      "Non-trainable params: 0\n",
      "_________________________________________________________________\n"
     ]
    }
   ],
   "source": [
    "# 딥러닝 모델 설정\n",
    "model = Sequential([\n",
    "    Dense(24, input_shape=(17,), activation='relu'),\n",
    "    Dense(8, input_shape=(17,), activation='relu'),\n",
    "    Dense(1, activation='sigmoid')\n",
    "])\n",
    "model.summary()"
   ]
  },
  {
   "cell_type": "code",
   "execution_count": 14,
   "metadata": {},
   "outputs": [],
   "source": [
    "# 딥러닝 환경 설정 (오차함수, 최적화함수)\n",
    "model.compile(loss='binary_crossentropy', optimizer='adam', metrics=['accuracy'])"
   ]
  },
  {
   "cell_type": "code",
   "execution_count": 19,
   "metadata": {},
   "outputs": [
    {
     "name": "stdout",
     "output_type": "stream",
     "text": [
      "Train on 300 samples, validate on 76 samples\n",
      "Epoch 1/30\n",
      "300/300 [==============================] - 0s 158us/sample - loss: 0.4933 - accuracy: 0.8333 - val_loss: 0.2059 - val_accuracy: 0.9474\n",
      "Epoch 2/30\n",
      "300/300 [==============================] - 0s 120us/sample - loss: 0.5849 - accuracy: 0.7933 - val_loss: 0.7538 - val_accuracy: 0.4868\n",
      "Epoch 3/30\n",
      "300/300 [==============================] - 0s 121us/sample - loss: 0.5709 - accuracy: 0.7967 - val_loss: 0.2021 - val_accuracy: 0.9474\n",
      "Epoch 4/30\n",
      "300/300 [==============================] - 0s 122us/sample - loss: 0.5025 - accuracy: 0.8167 - val_loss: 0.2232 - val_accuracy: 0.9474\n",
      "Epoch 5/30\n",
      "300/300 [==============================] - 0s 117us/sample - loss: 0.5057 - accuracy: 0.8300 - val_loss: 0.2411 - val_accuracy: 0.9474\n",
      "Epoch 6/30\n",
      "300/300 [==============================] - 0s 121us/sample - loss: 0.4844 - accuracy: 0.8200 - val_loss: 0.2652 - val_accuracy: 0.9474\n",
      "Epoch 7/30\n",
      "300/300 [==============================] - 0s 120us/sample - loss: 0.4594 - accuracy: 0.8300 - val_loss: 0.6275 - val_accuracy: 0.6184\n",
      "Epoch 8/30\n",
      "300/300 [==============================] - 0s 119us/sample - loss: 0.4919 - accuracy: 0.8167 - val_loss: 0.2193 - val_accuracy: 0.9474\n",
      "Epoch 9/30\n",
      "300/300 [==============================] - 0s 122us/sample - loss: 0.5354 - accuracy: 0.8233 - val_loss: 0.2555 - val_accuracy: 0.9474\n",
      "Epoch 10/30\n",
      "300/300 [==============================] - 0s 121us/sample - loss: 0.4658 - accuracy: 0.8267 - val_loss: 0.4212 - val_accuracy: 0.9211\n",
      "Epoch 11/30\n",
      "300/300 [==============================] - 0s 118us/sample - loss: 0.4606 - accuracy: 0.8300 - val_loss: 0.4229 - val_accuracy: 0.9079\n",
      "Epoch 12/30\n",
      "300/300 [==============================] - 0s 115us/sample - loss: 0.4562 - accuracy: 0.8167 - val_loss: 0.2141 - val_accuracy: 0.9474\n",
      "Epoch 13/30\n",
      "300/300 [==============================] - 0s 121us/sample - loss: 0.5234 - accuracy: 0.8033 - val_loss: 0.2241 - val_accuracy: 0.9474\n",
      "Epoch 14/30\n",
      "300/300 [==============================] - 0s 120us/sample - loss: 0.4717 - accuracy: 0.8300 - val_loss: 0.2565 - val_accuracy: 0.9474\n",
      "Epoch 15/30\n",
      "300/300 [==============================] - 0s 119us/sample - loss: 0.4429 - accuracy: 0.8333 - val_loss: 0.2680 - val_accuracy: 0.9474\n",
      "Epoch 16/30\n",
      "300/300 [==============================] - 0s 118us/sample - loss: 0.4926 - accuracy: 0.8167 - val_loss: 0.3039 - val_accuracy: 0.9474\n",
      "Epoch 17/30\n",
      "300/300 [==============================] - 0s 115us/sample - loss: 0.4473 - accuracy: 0.8300 - val_loss: 0.2131 - val_accuracy: 0.9474\n",
      "Epoch 18/30\n",
      "300/300 [==============================] - 0s 122us/sample - loss: 0.4529 - accuracy: 0.8333 - val_loss: 0.2474 - val_accuracy: 0.9474\n",
      "Epoch 19/30\n",
      "300/300 [==============================] - 0s 122us/sample - loss: 0.4648 - accuracy: 0.8200 - val_loss: 0.2112 - val_accuracy: 0.9474\n",
      "Epoch 20/30\n",
      "300/300 [==============================] - 0s 120us/sample - loss: 0.4555 - accuracy: 0.8333 - val_loss: 0.2869 - val_accuracy: 0.9474\n",
      "Epoch 21/30\n",
      "300/300 [==============================] - 0s 119us/sample - loss: 0.4605 - accuracy: 0.8100 - val_loss: 0.2115 - val_accuracy: 0.9474\n",
      "Epoch 22/30\n",
      "300/300 [==============================] - 0s 122us/sample - loss: 0.4937 - accuracy: 0.7900 - val_loss: 0.3245 - val_accuracy: 0.9474\n",
      "Epoch 23/30\n",
      "300/300 [==============================] - 0s 120us/sample - loss: 0.6090 - accuracy: 0.7933 - val_loss: 0.2100 - val_accuracy: 0.9474\n",
      "Epoch 24/30\n",
      "300/300 [==============================] - 0s 126us/sample - loss: 0.4921 - accuracy: 0.8300 - val_loss: 0.2298 - val_accuracy: 0.9474\n",
      "Epoch 25/30\n",
      "300/300 [==============================] - 0s 124us/sample - loss: 0.5599 - accuracy: 0.7900 - val_loss: 0.2524 - val_accuracy: 0.9474\n",
      "Epoch 26/30\n",
      "300/300 [==============================] - 0s 124us/sample - loss: 0.6224 - accuracy: 0.8067 - val_loss: 0.4468 - val_accuracy: 0.8816\n",
      "Epoch 27/30\n",
      "300/300 [==============================] - 0s 120us/sample - loss: 0.5266 - accuracy: 0.8300 - val_loss: 0.2324 - val_accuracy: 0.9474\n",
      "Epoch 28/30\n",
      "300/300 [==============================] - 0s 125us/sample - loss: 0.5315 - accuracy: 0.7633 - val_loss: 0.2104 - val_accuracy: 0.9474\n",
      "Epoch 29/30\n",
      "300/300 [==============================] - 0s 121us/sample - loss: 0.5222 - accuracy: 0.8000 - val_loss: 0.2834 - val_accuracy: 0.9474\n",
      "Epoch 30/30\n",
      "300/300 [==============================] - 0s 120us/sample - loss: 0.4269 - accuracy: 0.8333 - val_loss: 0.2096 - val_accuracy: 0.9474\n"
     ]
    }
   ],
   "source": [
    "# 딥러닝 학습\n",
    "# Validation set의 비율을 20%\n",
    "history = model.fit(x_train, y_train, validation_split=0.2, epochs=30, batch_size=10)"
   ]
  },
  {
   "cell_type": "code",
   "execution_count": 20,
   "metadata": {},
   "outputs": [
    {
     "name": "stdout",
     "output_type": "stream",
     "text": [
      "94/94 - 0s - loss: 0.4534 - accuracy: 0.8511\n",
      "\n",
      " Accuracy: 0.8511\n"
     ]
    }
   ],
   "source": [
    "# 결과 출력\n",
    "# evaluate() returns the loss value & metrics values for the model \n",
    "print(\"\\n Accuracy: %.4f\" % (model.evaluate(x_test, y_test, verbose=2))[1])"
   ]
  },
  {
   "cell_type": "code",
   "execution_count": 21,
   "metadata": {},
   "outputs": [
    {
     "data": {
      "text/plain": [
       "<tensorflow.python.keras.callbacks.History at 0x222c9dcb1c8>"
      ]
     },
     "execution_count": 21,
     "metadata": {},
     "output_type": "execute_result"
    }
   ],
   "source": [
    "history"
   ]
  },
  {
   "cell_type": "code",
   "execution_count": 22,
   "metadata": {},
   "outputs": [
    {
     "data": {
      "text/html": [
       "<div>\n",
       "<style scoped>\n",
       "    .dataframe tbody tr th:only-of-type {\n",
       "        vertical-align: middle;\n",
       "    }\n",
       "\n",
       "    .dataframe tbody tr th {\n",
       "        vertical-align: top;\n",
       "    }\n",
       "\n",
       "    .dataframe thead th {\n",
       "        text-align: right;\n",
       "    }\n",
       "</style>\n",
       "<table border=\"1\" class=\"dataframe\">\n",
       "  <thead>\n",
       "    <tr style=\"text-align: right;\">\n",
       "      <th></th>\n",
       "      <th>loss</th>\n",
       "      <th>accuracy</th>\n",
       "      <th>val_loss</th>\n",
       "      <th>val_accuracy</th>\n",
       "    </tr>\n",
       "  </thead>\n",
       "  <tbody>\n",
       "    <tr>\n",
       "      <th>0</th>\n",
       "      <td>0.493291</td>\n",
       "      <td>0.833333</td>\n",
       "      <td>0.205887</td>\n",
       "      <td>0.947368</td>\n",
       "    </tr>\n",
       "    <tr>\n",
       "      <th>1</th>\n",
       "      <td>0.584928</td>\n",
       "      <td>0.793333</td>\n",
       "      <td>0.753823</td>\n",
       "      <td>0.486842</td>\n",
       "    </tr>\n",
       "    <tr>\n",
       "      <th>2</th>\n",
       "      <td>0.570852</td>\n",
       "      <td>0.796667</td>\n",
       "      <td>0.202110</td>\n",
       "      <td>0.947368</td>\n",
       "    </tr>\n",
       "    <tr>\n",
       "      <th>3</th>\n",
       "      <td>0.502542</td>\n",
       "      <td>0.816667</td>\n",
       "      <td>0.223208</td>\n",
       "      <td>0.947368</td>\n",
       "    </tr>\n",
       "    <tr>\n",
       "      <th>4</th>\n",
       "      <td>0.505682</td>\n",
       "      <td>0.830000</td>\n",
       "      <td>0.241060</td>\n",
       "      <td>0.947368</td>\n",
       "    </tr>\n",
       "  </tbody>\n",
       "</table>\n",
       "</div>"
      ],
      "text/plain": [
       "       loss  accuracy  val_loss  val_accuracy\n",
       "0  0.493291  0.833333  0.205887      0.947368\n",
       "1  0.584928  0.793333  0.753823      0.486842\n",
       "2  0.570852  0.796667  0.202110      0.947368\n",
       "3  0.502542  0.816667  0.223208      0.947368\n",
       "4  0.505682  0.830000  0.241060      0.947368"
      ]
     },
     "execution_count": 22,
     "metadata": {},
     "output_type": "execute_result"
    }
   ],
   "source": [
    "import pandas as pd\n",
    "df = pd.DataFrame(data=history.history)\n",
    "df.head()"
   ]
  },
  {
   "cell_type": "markdown",
   "metadata": {},
   "source": [
    "### 향후에 아래 항목으로 이용 가능\n",
    "* history.history['accuracy']\n",
    "* history.history['val_accuracy']\n",
    "* history.history['loss']\n",
    "* history.history['val_loss']"
   ]
  },
  {
   "cell_type": "code",
   "execution_count": null,
   "metadata": {},
   "outputs": [],
   "source": []
  }
 ],
 "metadata": {
  "kernelspec": {
   "display_name": "Python 3",
   "language": "python",
   "name": "python3"
  },
  "language_info": {
   "codemirror_mode": {
    "name": "ipython",
    "version": 3
   },
   "file_extension": ".py",
   "mimetype": "text/x-python",
   "name": "python",
   "nbconvert_exporter": "python",
   "pygments_lexer": "ipython3",
   "version": "3.7.7"
  }
 },
 "nbformat": 4,
 "nbformat_minor": 4
}
