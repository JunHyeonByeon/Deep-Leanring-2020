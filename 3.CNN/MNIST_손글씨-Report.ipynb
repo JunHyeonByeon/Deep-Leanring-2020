{
 "cells": [
  {
   "cell_type": "markdown",
   "metadata": {},
   "source": [
    "# MNIST 데이터 셋을 이용한 손글씨 인식"
   ]
  },
  {
   "cell_type": "markdown",
   "metadata": {},
   "source": [
    "## 1. DNN 방식"
   ]
  },
  {
   "cell_type": "code",
   "execution_count": 1,
   "metadata": {},
   "outputs": [],
   "source": [
    "import tensorflow as tf\n",
    "import numpy as np\n",
    "mnist = tf.keras.datasets.mnist\n",
    "(x_train, y_train),(x_test, y_test) = mnist.load_data()"
   ]
  },
  {
   "cell_type": "code",
   "execution_count": 2,
   "metadata": {},
   "outputs": [
    {
     "data": {
      "text/plain": [
       "(60000, 28, 28)"
      ]
     },
     "metadata": {},
     "output_type": "display_data"
    },
    {
     "data": {
      "text/plain": [
       "(60000,)"
      ]
     },
     "metadata": {},
     "output_type": "display_data"
    },
    {
     "data": {
      "text/plain": [
       "(10000, 28, 28)"
      ]
     },
     "metadata": {},
     "output_type": "display_data"
    },
    {
     "data": {
      "text/plain": [
       "(10000,)"
      ]
     },
     "metadata": {},
     "output_type": "display_data"
    },
    {
     "data": {
      "text/plain": [
       "array([7, 2, 1, ..., 4, 5, 6], dtype=uint8)"
      ]
     },
     "metadata": {},
     "output_type": "display_data"
    }
   ],
   "source": [
    "display(x_train.shape)\n",
    "display(y_train.shape)\n",
    "display(x_test.shape)\n",
    "display(y_test.shape)\n",
    "\n",
    "display(y_test)"
   ]
  },
  {
   "cell_type": "code",
   "execution_count": 3,
   "metadata": {},
   "outputs": [],
   "source": [
    "import matplotlib.pyplot as plt\n",
    "\n",
    "def show_data(arr):\n",
    "    plt.imshow(arr, cmap=plt.cm.binary)\n",
    "    \n",
    "    reshape_data = arr.reshape(-1, )\n",
    "    for index, data in enumerate(reshape_data):\n",
    "        print('{:3d}'.format(data), end='')\n",
    "        if index % 28 == 27:\n",
    "            print()"
   ]
  },
  {
   "cell_type": "code",
   "execution_count": 4,
   "metadata": {},
   "outputs": [
    {
     "name": "stdout",
     "output_type": "stream",
     "text": [
      "  0  0  0  0  0  0  0  0  0  0  0  0  0  0  0  0  0  0  0  0  0  0  0  0  0  0  0  0\n",
      "  0  0  0  0  0  0  0  0  0  0  0  0  0  0  0  0  0  0  0  0  0  0  0  0  0  0  0  0\n",
      "  0  0  0  0  0  0  0  0  0  0  0  0  0  0  0  0  0  0  0  0  0  0  0  0  0  0  0  0\n",
      "  0  0  0  0  0  0  0  0  0  0  0  0  0  0  0  0  0  0  0  0  0  0  0  0  0  0  0  0\n",
      "  0  0  0  0  0  0  0  0  0  0  0  0  0  0  0 51159253159 50  0  0  0  0  0  0  0  0\n",
      "  0  0  0  0  0  0  0  0  0  0  0  0  0  0 48238252252252237  0  0  0  0  0  0  0  0\n",
      "  0  0  0  0  0  0  0  0  0  0  0  0  0 54227253252239233252 57  6  0  0  0  0  0  0\n",
      "  0  0  0  0  0  0  0  0  0  0  0 10 60224252253252202 84252253122  0  0  0  0  0  0\n",
      "  0  0  0  0  0  0  0  0  0  0  0163252252252253252252 96189253167  0  0  0  0  0  0\n",
      "  0  0  0  0  0  0  0  0  0  0 51238253253190114253228 47 79255168  0  0  0  0  0  0\n",
      "  0  0  0  0  0  0  0  0  0 48238252252179 12 75121 21  0  0253243 50  0  0  0  0  0\n",
      "  0  0  0  0  0  0  0  0 38165253233208 84  0  0  0  0  0  0253252165  0  0  0  0  0\n",
      "  0  0  0  0  0  0  0  7178252240 71 19 28  0  0  0  0  0  0253252195  0  0  0  0  0\n",
      "  0  0  0  0  0  0  0 57252252 63  0  0  0  0  0  0  0  0  0253252195  0  0  0  0  0\n",
      "  0  0  0  0  0  0  0198253190  0  0  0  0  0  0  0  0  0  0255253196  0  0  0  0  0\n",
      "  0  0  0  0  0  0 76246252112  0  0  0  0  0  0  0  0  0  0253252148  0  0  0  0  0\n",
      "  0  0  0  0  0  0 85252230 25  0  0  0  0  0  0  0  0  7135253186 12  0  0  0  0  0\n",
      "  0  0  0  0  0  0 85252223  0  0  0  0  0  0  0  0  7131252225 71  0  0  0  0  0  0\n",
      "  0  0  0  0  0  0 85252145  0  0  0  0  0  0  0 48165252173  0  0  0  0  0  0  0  0\n",
      "  0  0  0  0  0  0 86253225  0  0  0  0  0  0114238253162  0  0  0  0  0  0  0  0  0\n",
      "  0  0  0  0  0  0 85252249146 48 29 85178225253223167 56  0  0  0  0  0  0  0  0  0\n",
      "  0  0  0  0  0  0 85252252252229215252252252196130  0  0  0  0  0  0  0  0  0  0  0\n",
      "  0  0  0  0  0  0 28199252252253252252233145  0  0  0  0  0  0  0  0  0  0  0  0  0\n",
      "  0  0  0  0  0  0  0 25128252253252141 37  0  0  0  0  0  0  0  0  0  0  0  0  0  0\n",
      "  0  0  0  0  0  0  0  0  0  0  0  0  0  0  0  0  0  0  0  0  0  0  0  0  0  0  0  0\n",
      "  0  0  0  0  0  0  0  0  0  0  0  0  0  0  0  0  0  0  0  0  0  0  0  0  0  0  0  0\n",
      "  0  0  0  0  0  0  0  0  0  0  0  0  0  0  0  0  0  0  0  0  0  0  0  0  0  0  0  0\n",
      "  0  0  0  0  0  0  0  0  0  0  0  0  0  0  0  0  0  0  0  0  0  0  0  0  0  0  0  0\n"
     ]
    },
    {
     "data": {
      "image/png": "[encoded data removed]",
      "text/plain": [
       "<Figure size 432x288 with 1 Axes>"
      ]
     },
     "metadata": {
      "needs_background": "light"
     },
     "output_type": "display_data"
    }
   ],
   "source": [
    "show_data(x_train[1])"
   ]
  },
  {
   "cell_type": "code",
   "execution_count": 5,
   "metadata": {},
   "outputs": [],
   "source": [
    "reshape_x_train = x_train.reshape(x_train.shape[0], 28, 28, 1)\n",
    "reshape_x_test = x_test.reshape(x_test.shape[0], 28, 28, 1)"
   ]
  },
  {
   "cell_type": "code",
   "execution_count": 6,
   "metadata": {},
   "outputs": [
    {
     "name": "stdout",
     "output_type": "stream",
     "text": [
      "Model: \"sequential\"\n",
      "_________________________________________________________________\n",
      "Layer (type)                 Output Shape              Param #   \n",
      "=================================================================\n",
      "flatten (Flatten)            (None, 784)               0         \n",
      "_________________________________________________________________\n",
      "dense (Dense)                (None, 64)                50240     \n",
      "_________________________________________________________________\n",
      "dense_1 (Dense)              (None, 16)                1040      \n",
      "_________________________________________________________________\n",
      "dense_2 (Dense)              (None, 10)                170       \n",
      "=================================================================\n",
      "Total params: 51,450\n",
      "Trainable params: 51,450\n",
      "Non-trainable params: 0\n",
      "_________________________________________________________________\n"
     ]
    }
   ],
   "source": [
    "from tensorflow.keras.models import Sequential\n",
    "from tensorflow.keras import layers\n",
    "\n",
    "model = Sequential()\n",
    "model.add(layers.InputLayer(input_shape=(28, 28, 1)))\n",
    "model.add(layers.Flatten())\n",
    "model.add(layers.Dense(64, activation='relu'))\n",
    "model.add(layers.Dense(16, activation='relu'))\n",
    "model.add(layers.Dense(10, activation='softmax'))\n",
    "\n",
    "model.summary()"
   ]
  },
  {
   "cell_type": "code",
   "execution_count": 7,
   "metadata": {},
   "outputs": [],
   "source": [
    "model.compile(\n",
    "    optimizer='adam',\n",
    "    loss='sparse_categorical_crossentropy',\n",
    "    metrics=['acc']\n",
    ")"
   ]
  },
  {
   "cell_type": "code",
   "execution_count": 8,
   "metadata": {},
   "outputs": [
    {
     "name": "stdout",
     "output_type": "stream",
     "text": [
      "Train on 48000 samples, validate on 12000 samples\n",
      "Epoch 1/50\n",
      "48000/48000 [==============================] - 1s 19us/sample - loss: 3.5406 - acc: 0.3644 - val_loss: 1.4091 - val_acc: 0.5142\n",
      "Epoch 2/50\n",
      "48000/48000 [==============================] - 1s 13us/sample - loss: 1.2963 - acc: 0.5279 - val_loss: 1.1854 - val_acc: 0.5563\n",
      "Epoch 3/50\n",
      "48000/48000 [==============================] - 1s 13us/sample - loss: 1.1254 - acc: 0.5721 - val_loss: 1.0793 - val_acc: 0.5906\n",
      "Epoch 4/50\n",
      "48000/48000 [==============================] - 1s 13us/sample - loss: 0.9959 - acc: 0.6208 - val_loss: 0.9799 - val_acc: 0.6382\n",
      "Epoch 5/50\n",
      "48000/48000 [==============================] - 1s 13us/sample - loss: 0.9142 - acc: 0.6464 - val_loss: 0.9186 - val_acc: 0.6482\n",
      "Epoch 6/50\n",
      "48000/48000 [==============================] - 1s 14us/sample - loss: 0.8366 - acc: 0.6626 - val_loss: 0.8770 - val_acc: 0.6644\n",
      "Epoch 7/50\n",
      "48000/48000 [==============================] - 1s 13us/sample - loss: 0.7055 - acc: 0.7376 - val_loss: 0.7149 - val_acc: 0.7505\n",
      "Epoch 8/50\n",
      "48000/48000 [==============================] - 1s 13us/sample - loss: 0.6003 - acc: 0.7794 - val_loss: 0.6906 - val_acc: 0.7740\n",
      "Epoch 9/50\n",
      "48000/48000 [==============================] - 1s 13us/sample - loss: 0.5316 - acc: 0.8048 - val_loss: 0.5984 - val_acc: 0.7877\n",
      "Epoch 10/50\n",
      "48000/48000 [==============================] - 1s 13us/sample - loss: 0.4833 - acc: 0.8250 - val_loss: 0.5339 - val_acc: 0.8333\n",
      "Epoch 11/50\n",
      "48000/48000 [==============================] - 1s 13us/sample - loss: 0.4340 - acc: 0.8395 - val_loss: 0.5056 - val_acc: 0.8697\n",
      "Epoch 12/50\n",
      "48000/48000 [==============================] - 1s 13us/sample - loss: 0.3760 - acc: 0.8823 - val_loss: 0.4446 - val_acc: 0.8929\n",
      "Epoch 13/50\n",
      "48000/48000 [==============================] - 1s 13us/sample - loss: 0.2869 - acc: 0.9249 - val_loss: 0.3466 - val_acc: 0.9313\n",
      "Epoch 14/50\n",
      "48000/48000 [==============================] - 1s 13us/sample - loss: 0.2243 - acc: 0.9430 - val_loss: 0.3020 - val_acc: 0.9365\n",
      "Epoch 15/50\n",
      "48000/48000 [==============================] - 1s 13us/sample - loss: 0.1921 - acc: 0.9502 - val_loss: 0.3004 - val_acc: 0.9447\n",
      "Epoch 16/50\n",
      "48000/48000 [==============================] - 1s 13us/sample - loss: 0.1705 - acc: 0.9559 - val_loss: 0.2556 - val_acc: 0.9494\n",
      "Epoch 17/50\n",
      "48000/48000 [==============================] - 1s 13us/sample - loss: 0.1523 - acc: 0.9605 - val_loss: 0.2588 - val_acc: 0.9503\n",
      "Epoch 18/50\n",
      "48000/48000 [==============================] - 1s 13us/sample - loss: 0.1333 - acc: 0.9659 - val_loss: 0.2698 - val_acc: 0.9497\n",
      "Epoch 19/50\n",
      "48000/48000 [==============================] - 1s 13us/sample - loss: 0.1224 - acc: 0.9672 - val_loss: 0.2385 - val_acc: 0.9526\n",
      "Epoch 20/50\n",
      "48000/48000 [==============================] - 1s 13us/sample - loss: 0.1171 - acc: 0.9690 - val_loss: 0.2075 - val_acc: 0.9566\n",
      "Epoch 21/50\n",
      "48000/48000 [==============================] - 1s 13us/sample - loss: 0.1030 - acc: 0.9719 - val_loss: 0.2387 - val_acc: 0.9538\n",
      "Epoch 22/50\n",
      "48000/48000 [==============================] - 1s 13us/sample - loss: 0.0977 - acc: 0.9739 - val_loss: 0.2275 - val_acc: 0.9553\n",
      "Epoch 23/50\n",
      "48000/48000 [==============================] - 1s 13us/sample - loss: 0.0973 - acc: 0.9737 - val_loss: 0.2219 - val_acc: 0.9527\n",
      "Epoch 24/50\n",
      "48000/48000 [==============================] - 1s 13us/sample - loss: 0.0843 - acc: 0.9768 - val_loss: 0.2156 - val_acc: 0.9606\n",
      "Epoch 25/50\n",
      "48000/48000 [==============================] - 1s 13us/sample - loss: 0.0730 - acc: 0.9801 - val_loss: 0.2037 - val_acc: 0.9596\n",
      "Epoch 26/50\n",
      "48000/48000 [==============================] - 1s 13us/sample - loss: 0.0683 - acc: 0.9812 - val_loss: 0.2023 - val_acc: 0.9622\n",
      "Epoch 27/50\n",
      "48000/48000 [==============================] - 1s 13us/sample - loss: 0.0670 - acc: 0.9817 - val_loss: 0.2104 - val_acc: 0.9593\n",
      "Epoch 28/50\n",
      "48000/48000 [==============================] - 1s 13us/sample - loss: 0.0613 - acc: 0.9832 - val_loss: 0.2375 - val_acc: 0.9572\n",
      "Epoch 29/50\n",
      "48000/48000 [==============================] - 1s 13us/sample - loss: 0.0619 - acc: 0.9825 - val_loss: 0.2158 - val_acc: 0.9596\n",
      "Epoch 30/50\n",
      "48000/48000 [==============================] - 1s 13us/sample - loss: 0.0576 - acc: 0.9840 - val_loss: 0.2224 - val_acc: 0.9620\n",
      "Epoch 31/50\n",
      "48000/48000 [==============================] - 1s 13us/sample - loss: 0.0528 - acc: 0.9851 - val_loss: 0.2197 - val_acc: 0.9607\n",
      "Epoch 32/50\n",
      "48000/48000 [==============================] - 1s 13us/sample - loss: 0.0504 - acc: 0.9860 - val_loss: 0.2172 - val_acc: 0.9607\n",
      "Epoch 33/50\n",
      "48000/48000 [==============================] - 1s 13us/sample - loss: 0.0456 - acc: 0.9877 - val_loss: 0.2361 - val_acc: 0.9580\n",
      "Epoch 34/50\n",
      "48000/48000 [==============================] - 1s 13us/sample - loss: 0.0497 - acc: 0.9862 - val_loss: 0.2061 - val_acc: 0.9616\n",
      "Epoch 35/50\n",
      "48000/48000 [==============================] - 1s 13us/sample - loss: 0.0432 - acc: 0.9872 - val_loss: 0.2269 - val_acc: 0.9622\n",
      "Epoch 36/50\n",
      "48000/48000 [==============================] - 1s 13us/sample - loss: 0.0456 - acc: 0.9876 - val_loss: 0.2490 - val_acc: 0.9576\n",
      "Epoch 37/50\n",
      "48000/48000 [==============================] - 1s 13us/sample - loss: 0.0407 - acc: 0.9886 - val_loss: 0.2410 - val_acc: 0.9597\n",
      "Epoch 38/50\n",
      "48000/48000 [==============================] - 1s 13us/sample - loss: 0.0417 - acc: 0.9885 - val_loss: 0.2349 - val_acc: 0.9605\n",
      "Epoch 39/50\n",
      "48000/48000 [==============================] - 1s 13us/sample - loss: 0.0459 - acc: 0.9876 - val_loss: 0.2297 - val_acc: 0.9639\n",
      "Epoch 40/50\n",
      "48000/48000 [==============================] - 1s 13us/sample - loss: 0.0329 - acc: 0.9913 - val_loss: 0.2658 - val_acc: 0.9595\n",
      "Epoch 41/50\n",
      "48000/48000 [==============================] - 1s 13us/sample - loss: 0.0350 - acc: 0.9906 - val_loss: 0.2534 - val_acc: 0.9597\n",
      "Epoch 42/50\n",
      "48000/48000 [==============================] - 1s 13us/sample - loss: 0.0404 - acc: 0.9889 - val_loss: 0.2583 - val_acc: 0.9585\n",
      "Epoch 43/50\n",
      "48000/48000 [==============================] - 1s 13us/sample - loss: 0.0337 - acc: 0.9907 - val_loss: 0.2693 - val_acc: 0.9615\n",
      "Epoch 44/50\n",
      "48000/48000 [==============================] - 1s 13us/sample - loss: 0.0335 - acc: 0.9912 - val_loss: 0.2421 - val_acc: 0.9636\n",
      "Epoch 45/50\n",
      "48000/48000 [==============================] - 1s 13us/sample - loss: 0.0270 - acc: 0.9926 - val_loss: 0.2484 - val_acc: 0.9622\n",
      "Epoch 46/50\n",
      "48000/48000 [==============================] - 1s 13us/sample - loss: 0.0335 - acc: 0.9906 - val_loss: 0.2529 - val_acc: 0.9615\n",
      "Epoch 47/50\n",
      "48000/48000 [==============================] - 1s 13us/sample - loss: 0.0331 - acc: 0.9910 - val_loss: 0.2564 - val_acc: 0.9640\n",
      "Epoch 48/50\n",
      "48000/48000 [==============================] - 1s 13us/sample - loss: 0.0249 - acc: 0.9930 - val_loss: 0.2699 - val_acc: 0.9626\n",
      "Epoch 49/50\n",
      "48000/48000 [==============================] - 1s 13us/sample - loss: 0.0378 - acc: 0.9896 - val_loss: 0.2684 - val_acc: 0.9627\n",
      "Epoch 50/50\n",
      "48000/48000 [==============================] - 1s 13us/sample - loss: 0.0313 - acc: 0.9915 - val_loss: 0.2625 - val_acc: 0.9632\n"
     ]
    },
    {
     "data": {
      "text/plain": [
       "<tensorflow.python.keras.callbacks.History at 0x1f356da2848>"
      ]
     },
     "execution_count": 8,
     "metadata": {},
     "output_type": "execute_result"
    }
   ],
   "source": [
    "model.fit(\n",
    "    reshape_x_train,\n",
    "    y_train,\n",
    "    batch_size=128,\n",
    "    epochs=50,\n",
    "    validation_split=0.2,\n",
    ")"
   ]
  },
  {
   "cell_type": "code",
   "execution_count": 9,
   "metadata": {},
   "outputs": [
    {
     "name": "stdout",
     "output_type": "stream",
     "text": [
      "10000/10000 [==============================] - 0s 20us/sample - loss: 0.2621 - acc: 0.9620\n"
     ]
    },
    {
     "data": {
      "text/plain": [
       "[0.2620517617187463, 0.962]"
      ]
     },
     "execution_count": 9,
     "metadata": {},
     "output_type": "execute_result"
    }
   ],
   "source": [
    "model.evaluate(reshape_x_test, y_test)"
   ]
  },
  {
   "cell_type": "markdown",
   "metadata": {},
   "source": [
    "## 2. CNN 방식"
   ]
  },
  {
   "cell_type": "code",
   "execution_count": 10,
   "metadata": {},
   "outputs": [
    {
     "name": "stdout",
     "output_type": "stream",
     "text": [
      "Model: \"sequential_1\"\n",
      "_________________________________________________________________\n",
      "Layer (type)                 Output Shape              Param #   \n",
      "=================================================================\n",
      "conv2d (Conv2D)              (None, 28, 28, 64)        320       \n",
      "_________________________________________________________________\n",
      "max_pooling2d (MaxPooling2D) (None, 14, 14, 64)        0         \n",
      "_________________________________________________________________\n",
      "conv2d_1 (Conv2D)            (None, 14, 14, 128)       32896     \n",
      "_________________________________________________________________\n",
      "max_pooling2d_1 (MaxPooling2 (None, 7, 7, 128)         0         \n",
      "_________________________________________________________________\n",
      "flatten_1 (Flatten)          (None, 6272)              0         \n",
      "_________________________________________________________________\n",
      "dense_3 (Dense)              (None, 10)                62730     \n",
      "=================================================================\n",
      "Total params: 95,946\n",
      "Trainable params: 95,946\n",
      "Non-trainable params: 0\n",
      "_________________________________________________________________\n"
     ]
    }
   ],
   "source": [
    "model = Sequential()\n",
    "\n",
    "model.add(layers.Conv2D(\n",
    "    input_shape=(28, 28, 1),\n",
    "    filters=64, \n",
    "    kernel_size=(2, 2), \n",
    "    strides=(1, 1), \n",
    "    padding='same',\n",
    "    activation='relu',\n",
    "    kernel_initializer='glorot_normal',\n",
    "))\n",
    "model.add(layers.MaxPool2D())\n",
    "model.add(layers.Conv2D(\n",
    "    filters=128, \n",
    "    kernel_size=(2, 2), \n",
    "    strides=(1, 1), \n",
    "    padding='same',\n",
    "    activation='relu',\n",
    "    kernel_initializer='glorot_normal'\n",
    "))\n",
    "model.add(layers.MaxPool2D())\n",
    "model.add(layers.Flatten())\n",
    "model.add(layers.Dense(10, activation='softmax'))\n",
    "\n",
    "model.summary()"
   ]
  },
  {
   "cell_type": "code",
   "execution_count": 11,
   "metadata": {},
   "outputs": [],
   "source": [
    "model.compile(\n",
    "    optimizer='adam',\n",
    "    loss='sparse_categorical_crossentropy',\n",
    "    metrics=['acc']\n",
    ")"
   ]
  },
  {
   "cell_type": "code",
   "execution_count": 12,
   "metadata": {},
   "outputs": [
    {
     "name": "stdout",
     "output_type": "stream",
     "text": [
      "Train on 48000 samples, validate on 12000 samples\n",
      "Epoch 1/20\n",
      "48000/48000 [==============================] - 26s 548us/sample - loss: 0.6402 - acc: 0.9234 - val_loss: 0.0866 - val_acc: 0.9740\n",
      "Epoch 2/20\n",
      "48000/48000 [==============================] - 26s 545us/sample - loss: 0.0715 - acc: 0.9781 - val_loss: 0.0847 - val_acc: 0.9763\n",
      "Epoch 3/20\n",
      "48000/48000 [==============================] - 26s 535us/sample - loss: 0.0532 - acc: 0.9836 - val_loss: 0.0681 - val_acc: 0.9803\n",
      "Epoch 4/20\n",
      "48000/48000 [==============================] - 26s 535us/sample - loss: 0.0381 - acc: 0.9878 - val_loss: 0.0748 - val_acc: 0.9788\n",
      "Epoch 5/20\n",
      "48000/48000 [==============================] - 26s 534us/sample - loss: 0.0325 - acc: 0.9894 - val_loss: 0.0748 - val_acc: 0.9808\n",
      "Epoch 6/20\n",
      "48000/48000 [==============================] - 26s 539us/sample - loss: 0.0264 - acc: 0.9908 - val_loss: 0.0877 - val_acc: 0.9806\n",
      "Epoch 7/20\n",
      "48000/48000 [==============================] - 26s 534us/sample - loss: 0.0246 - acc: 0.9919 - val_loss: 0.0863 - val_acc: 0.9820\n",
      "Epoch 8/20\n",
      "48000/48000 [==============================] - 26s 534us/sample - loss: 0.0221 - acc: 0.9925 - val_loss: 0.0905 - val_acc: 0.9826\n",
      "Epoch 9/20\n",
      "48000/48000 [==============================] - 26s 535us/sample - loss: 0.0216 - acc: 0.9927 - val_loss: 0.0919 - val_acc: 0.9822\n",
      "Epoch 10/20\n",
      "48000/48000 [==============================] - 26s 535us/sample - loss: 0.0208 - acc: 0.9930 - val_loss: 0.0776 - val_acc: 0.9846\n",
      "Epoch 11/20\n",
      "48000/48000 [==============================] - 26s 536us/sample - loss: 0.0185 - acc: 0.9939 - val_loss: 0.1009 - val_acc: 0.9820\n",
      "Epoch 12/20\n",
      "48000/48000 [==============================] - 26s 536us/sample - loss: 0.0172 - acc: 0.9944 - val_loss: 0.1168 - val_acc: 0.9816\n",
      "Epoch 13/20\n",
      "48000/48000 [==============================] - 26s 547us/sample - loss: 0.0190 - acc: 0.9939 - val_loss: 0.0934 - val_acc: 0.9843\n",
      "Epoch 14/20\n",
      "48000/48000 [==============================] - 26s 544us/sample - loss: 0.0173 - acc: 0.9948 - val_loss: 0.1014 - val_acc: 0.9821\n",
      "Epoch 15/20\n",
      "48000/48000 [==============================] - 26s 544us/sample - loss: 0.0149 - acc: 0.9952 - val_loss: 0.1064 - val_acc: 0.9826\n",
      "Epoch 16/20\n",
      "48000/48000 [==============================] - 26s 540us/sample - loss: 0.0125 - acc: 0.9961 - val_loss: 0.1034 - val_acc: 0.9846\n",
      "Epoch 17/20\n",
      "48000/48000 [==============================] - 26s 550us/sample - loss: 0.0205 - acc: 0.9941 - val_loss: 0.1405 - val_acc: 0.9792\n",
      "Epoch 18/20\n",
      "48000/48000 [==============================] - 27s 555us/sample - loss: 0.0171 - acc: 0.9949 - val_loss: 0.1180 - val_acc: 0.9827\n",
      "Epoch 19/20\n",
      "48000/48000 [==============================] - 26s 538us/sample - loss: 0.0155 - acc: 0.9956 - val_loss: 0.1227 - val_acc: 0.9812\n",
      "Epoch 20/20\n",
      "48000/48000 [==============================] - 26s 539us/sample - loss: 0.0116 - acc: 0.9965 - val_loss: 0.1117 - val_acc: 0.9851\n"
     ]
    },
    {
     "data": {
      "text/plain": [
       "<tensorflow.python.keras.callbacks.History at 0x1f358375c08>"
      ]
     },
     "execution_count": 12,
     "metadata": {},
     "output_type": "execute_result"
    }
   ],
   "source": [
    "model.fit(\n",
    "    reshape_x_train,\n",
    "    y_train,\n",
    "    batch_size=128,\n",
    "    epochs=20,\n",
    "    validation_split=0.2,\n",
    ")"
   ]
  },
  {
   "cell_type": "code",
   "execution_count": 16,
   "metadata": {},
   "outputs": [
    {
     "name": "stdout",
     "output_type": "stream",
     "text": [
      "10000/10000 [==============================] - 2s 167us/sample - loss: 0.1273 - acc: 0.9828\n"
     ]
    },
    {
     "data": {
      "text/plain": [
       "[0.1272851848161038, 0.9828]"
      ]
     },
     "execution_count": 16,
     "metadata": {},
     "output_type": "execute_result"
    }
   ],
   "source": [
    "model.evaluate(reshape_x_test, y_test)"
   ]
  },
  {
   "cell_type": "code",
   "execution_count": null,
   "metadata": {},
   "outputs": [],
   "source": []
  }
 ],
 "metadata": {
  "kernelspec": {
   "display_name": "Python 3",
   "language": "python",
   "name": "python3"
  },
  "language_info": {
   "codemirror_mode": {
    "name": "ipython",
    "version": 3
   },
   "file_extension": ".py",
   "mimetype": "text/x-python",
   "name": "python",
   "nbconvert_exporter": "python",
   "pygments_lexer": "ipython3",
   "version": "3.7.7"
  }
 },
 "nbformat": 4,
 "nbformat_minor": 2
}
