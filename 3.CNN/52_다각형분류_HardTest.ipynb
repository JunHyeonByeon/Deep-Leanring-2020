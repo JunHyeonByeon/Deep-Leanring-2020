{
 "cells": [
  {
   "cell_type": "markdown",
   "metadata": {
    "colab_type": "text",
    "id": "3rG34xrNgE7I"
   },
   "source": [
    "# 원, 삼각형, 사각형 구분하기\n",
    "## 2. 어려운 테스트 문제를 기존 CNN 모델로 푸는 경우"
   ]
  },
  {
   "cell_type": "code",
   "execution_count": 1,
   "metadata": {
    "colab": {},
    "colab_type": "code",
    "id": "bwA2Lk7gilA1"
   },
   "outputs": [
    {
     "name": "stderr",
     "output_type": "stream",
     "text": [
      "Using TensorFlow backend.\n"
     ]
    }
   ],
   "source": [
    "import numpy as np\n",
    "import tensorflow as tf\n",
    "from tensorflow import keras\n",
    "from keras.models import Sequential\n",
    "from keras.layers import Dense, Flatten, Conv2D, MaxPooling2D\n",
    "from keras.preprocessing.image import ImageDataGenerator"
   ]
  },
  {
   "cell_type": "code",
   "execution_count": 2,
   "metadata": {},
   "outputs": [],
   "source": [
    "# seed 값 설정\n",
    "seed = 2020\n",
    "np.random.seed(seed)\n",
    "tf.random.set_seed(seed)"
   ]
  },
  {
   "cell_type": "markdown",
   "metadata": {
    "colab_type": "text",
    "id": "SjsMBcR0pnzv"
   },
   "source": [
    "### 데이터셋 생성하기"
   ]
  },
  {
   "cell_type": "code",
   "execution_count": 3,
   "metadata": {
    "colab": {
     "base_uri": "https://localhost:8080/",
     "height": 53
    },
    "colab_type": "code",
    "id": "9Ffv4Qcfkxd0",
    "outputId": "caa7aa1e-8c4b-482d-ce65-d7f48e8e5920"
   },
   "outputs": [
    {
     "name": "stdout",
     "output_type": "stream",
     "text": [
      "Found 45 images belonging to 3 classes.\n",
      "Found 15 images belonging to 3 classes.\n"
     ]
    }
   ],
   "source": [
    "train_datagen = ImageDataGenerator(rescale=1./255)   # 정규화\n",
    "\n",
    "train_generator = train_datagen.flow_from_directory(\n",
    "        'hard_handwriting_shape/train',\n",
    "        target_size=(24, 24),\n",
    "        batch_size=3,\n",
    "        class_mode='categorical')\n",
    "\n",
    "test_datagen = ImageDataGenerator(rescale=1./255)\n",
    "\n",
    "test_generator = test_datagen.flow_from_directory(\n",
    "        'hard_handwriting_shape/test',\n",
    "        target_size=(24, 24),    \n",
    "        batch_size=3,\n",
    "        class_mode='categorical')"
   ]
  },
  {
   "cell_type": "markdown",
   "metadata": {
    "colab_type": "text",
    "id": "K88bSm6wpwsK"
   },
   "source": [
    "### 모델 구성하기"
   ]
  },
  {
   "cell_type": "code",
   "execution_count": 4,
   "metadata": {
    "colab": {
     "base_uri": "https://localhost:8080/",
     "height": 377
    },
    "colab_type": "code",
    "id": "G5TOCJzIpVfR",
    "outputId": "35def669-2606-46e4-efee-98f549cce104"
   },
   "outputs": [
    {
     "name": "stdout",
     "output_type": "stream",
     "text": [
      "Model: \"sequential_1\"\n",
      "_________________________________________________________________\n",
      "Layer (type)                 Output Shape              Param #   \n",
      "=================================================================\n",
      "conv2d_1 (Conv2D)            (None, 22, 22, 32)        896       \n",
      "_________________________________________________________________\n",
      "conv2d_2 (Conv2D)            (None, 20, 20, 64)        18496     \n",
      "_________________________________________________________________\n",
      "max_pooling2d_1 (MaxPooling2 (None, 10, 10, 64)        0         \n",
      "_________________________________________________________________\n",
      "flatten_1 (Flatten)          (None, 6400)              0         \n",
      "_________________________________________________________________\n",
      "dense_1 (Dense)              (None, 128)               819328    \n",
      "_________________________________________________________________\n",
      "dense_2 (Dense)              (None, 3)                 387       \n",
      "=================================================================\n",
      "Total params: 839,107\n",
      "Trainable params: 839,107\n",
      "Non-trainable params: 0\n",
      "_________________________________________________________________\n"
     ]
    }
   ],
   "source": [
    "model = Sequential()\n",
    "model.add(Conv2D(32, kernel_size=(3, 3),\n",
    "                 activation='relu', input_shape=(24,24,3)))\n",
    "model.add(Conv2D(64, (3, 3), activation='relu'))\n",
    "model.add(MaxPooling2D(pool_size=(2, 2)))\n",
    "model.add(Flatten())\n",
    "model.add(Dense(128, activation='relu'))\n",
    "model.add(Dense(3, activation='softmax'))\n",
    "model.summary()"
   ]
  },
  {
   "cell_type": "markdown",
   "metadata": {
    "colab_type": "text",
    "id": "wrjhuhJ2tEeA"
   },
   "source": [
    "### 모델 학습과정 설정하기"
   ]
  },
  {
   "cell_type": "code",
   "execution_count": 5,
   "metadata": {
    "colab": {},
    "colab_type": "code",
    "id": "hBUFfHV6sSRW"
   },
   "outputs": [],
   "source": [
    "model.compile(loss='categorical_crossentropy', \n",
    "              optimizer='adam', metrics=['accuracy'])"
   ]
  },
  {
   "cell_type": "markdown",
   "metadata": {
    "colab_type": "text",
    "id": "sZ_WQ05itPr9"
   },
   "source": [
    "## 모델 학습시키기\n",
    "- 첫번째 인자 : 훈련데이터셋을 제공할 제네레이터를 지정. 본 예제에서는 앞서 생성한 train_generator으로 지정.\n",
    "- steps_per_epoch : 한 epoch에 사용한 스텝 수를 지정. 총 45개의 훈련 샘플이 있고 배치사이즈가 3이므로 15 스텝으로 지정.\n",
    "- epochs : 전체 훈련 데이터셋에 대해 학습 반복 횟수를 지정. 200번을 반복적으로 학습.\n",
    "- validation_data : 검증데이터셋을 제공할 제네레이터를 지정. 본 예제에서는 앞서 생성한 validation_generator으로 지정.\n",
    "- validation_steps : 한 epoch 종료 시 마다 검증할 때 사용되는 검증 스텝 수를 지정. 홍 15개의 검증 샘플이 있고 배치사이즈가 3이므로 5 스텝으로 지정."
   ]
  },
  {
   "cell_type": "code",
   "execution_count": 6,
   "metadata": {
    "colab": {
     "base_uri": "https://localhost:8080/",
     "height": 1000
    },
    "colab_type": "code",
    "id": "oMzc0kFdtLMY",
    "outputId": "93273fea-58c8-474a-8308-9a3fdeae55d4"
   },
   "outputs": [
    {
     "name": "stdout",
     "output_type": "stream",
     "text": [
      "Epoch 1/200\n",
      "15/15 [==============================] - 0s 18ms/step - loss: 1.2569 - accuracy: 0.4667 - val_loss: 0.9566 - val_accuracy: 0.4000\n",
      "Epoch 2/200\n",
      "15/15 [==============================] - 0s 10ms/step - loss: 0.4503 - accuracy: 0.8444 - val_loss: 2.7420 - val_accuracy: 0.3333\n",
      "Epoch 3/200\n",
      "15/15 [==============================] - 0s 11ms/step - loss: 0.0724 - accuracy: 0.9778 - val_loss: 4.7288 - val_accuracy: 0.3333\n",
      "Epoch 4/200\n",
      "15/15 [==============================] - 0s 10ms/step - loss: 0.0134 - accuracy: 1.0000 - val_loss: 2.4576 - val_accuracy: 0.3333\n",
      "Epoch 5/200\n",
      "15/15 [==============================] - 0s 10ms/step - loss: 0.0019 - accuracy: 1.0000 - val_loss: 4.3350 - val_accuracy: 0.3333\n",
      "Epoch 6/200\n",
      "15/15 [==============================] - 0s 10ms/step - loss: 0.0013 - accuracy: 1.0000 - val_loss: 4.0619 - val_accuracy: 0.3333\n",
      "Epoch 7/200\n",
      "15/15 [==============================] - 0s 11ms/step - loss: 6.7723e-04 - accuracy: 1.0000 - val_loss: 1.9743 - val_accuracy: 0.3333\n",
      "Epoch 8/200\n",
      "15/15 [==============================] - 0s 10ms/step - loss: 4.8815e-04 - accuracy: 1.0000 - val_loss: 5.1131 - val_accuracy: 0.3333\n",
      "Epoch 9/200\n",
      "15/15 [==============================] - 0s 11ms/step - loss: 4.1253e-04 - accuracy: 1.0000 - val_loss: 7.7011 - val_accuracy: 0.3333\n",
      "Epoch 10/200\n",
      "15/15 [==============================] - 0s 11ms/step - loss: 3.5501e-04 - accuracy: 1.0000 - val_loss: 4.0941 - val_accuracy: 0.3333\n",
      "Epoch 11/200\n",
      "15/15 [==============================] - 0s 10ms/step - loss: 3.0850e-04 - accuracy: 1.0000 - val_loss: 0.0179 - val_accuracy: 0.3333\n",
      "Epoch 12/200\n",
      "15/15 [==============================] - 0s 10ms/step - loss: 2.7404e-04 - accuracy: 1.0000 - val_loss: 5.0561 - val_accuracy: 0.3333\n",
      "Epoch 13/200\n",
      "15/15 [==============================] - 0s 11ms/step - loss: 2.5025e-04 - accuracy: 1.0000 - val_loss: 6.6360 - val_accuracy: 0.3333\n",
      "Epoch 14/200\n",
      "15/15 [==============================] - 0s 11ms/step - loss: 2.1667e-04 - accuracy: 1.0000 - val_loss: 1.9486 - val_accuracy: 0.3333\n",
      "Epoch 15/200\n",
      "15/15 [==============================] - 0s 11ms/step - loss: 1.9759e-04 - accuracy: 1.0000 - val_loss: 5.3445 - val_accuracy: 0.3333\n",
      "Epoch 16/200\n",
      "15/15 [==============================] - 0s 11ms/step - loss: 1.7942e-04 - accuracy: 1.0000 - val_loss: 5.1768 - val_accuracy: 0.3333\n",
      "Epoch 17/200\n",
      "15/15 [==============================] - 0s 11ms/step - loss: 1.6201e-04 - accuracy: 1.0000 - val_loss: 5.5081 - val_accuracy: 0.3333\n",
      "Epoch 18/200\n",
      "15/15 [==============================] - 0s 11ms/step - loss: 1.4856e-04 - accuracy: 1.0000 - val_loss: 0.0025 - val_accuracy: 0.3333\n",
      "Epoch 19/200\n",
      "15/15 [==============================] - 0s 11ms/step - loss: 1.3591e-04 - accuracy: 1.0000 - val_loss: 3.8909 - val_accuracy: 0.3333\n",
      "Epoch 20/200\n",
      "15/15 [==============================] - 0s 11ms/step - loss: 1.2417e-04 - accuracy: 1.0000 - val_loss: 7.7424 - val_accuracy: 0.3333\n",
      "Epoch 21/200\n",
      "15/15 [==============================] - 0s 11ms/step - loss: 1.1517e-04 - accuracy: 1.0000 - val_loss: 9.3273 - val_accuracy: 0.3333\n",
      "Epoch 22/200\n",
      "15/15 [==============================] - 0s 10ms/step - loss: 1.0628e-04 - accuracy: 1.0000 - val_loss: 7.7074 - val_accuracy: 0.3333\n",
      "Epoch 23/200\n",
      "15/15 [==============================] - 0s 11ms/step - loss: 9.7650e-05 - accuracy: 1.0000 - val_loss: 8.3168 - val_accuracy: 0.3333\n",
      "Epoch 24/200\n",
      "15/15 [==============================] - 0s 11ms/step - loss: 9.0515e-05 - accuracy: 1.0000 - val_loss: 9.9775 - val_accuracy: 0.3333\n",
      "Epoch 25/200\n",
      "15/15 [==============================] - 0s 16ms/step - loss: 8.5007e-05 - accuracy: 1.0000 - val_loss: 9.3914 - val_accuracy: 0.3333\n",
      "Epoch 26/200\n",
      "15/15 [==============================] - 0s 11ms/step - loss: 7.9083e-05 - accuracy: 1.0000 - val_loss: 9.4521 - val_accuracy: 0.3333\n",
      "Epoch 27/200\n",
      "15/15 [==============================] - 0s 10ms/step - loss: 7.4308e-05 - accuracy: 1.0000 - val_loss: 4.0662 - val_accuracy: 0.3333\n",
      "Epoch 28/200\n",
      "15/15 [==============================] - 0s 10ms/step - loss: 6.9202e-05 - accuracy: 1.0000 - val_loss: 12.3774 - val_accuracy: 0.3333\n",
      "Epoch 29/200\n",
      "15/15 [==============================] - 0s 10ms/step - loss: 6.4487e-05 - accuracy: 1.0000 - val_loss: 7.1330 - val_accuracy: 0.3333\n",
      "Epoch 30/200\n",
      "15/15 [==============================] - 0s 10ms/step - loss: 6.1389e-05 - accuracy: 1.0000 - val_loss: 8.1568 - val_accuracy: 0.3333\n",
      "Epoch 31/200\n",
      "15/15 [==============================] - 0s 10ms/step - loss: 5.7471e-05 - accuracy: 1.0000 - val_loss: 7.2099 - val_accuracy: 0.3333\n",
      "Epoch 32/200\n",
      "15/15 [==============================] - 0s 11ms/step - loss: 5.4055e-05 - accuracy: 1.0000 - val_loss: 8.2802 - val_accuracy: 0.3333\n",
      "Epoch 33/200\n",
      "15/15 [==============================] - 0s 11ms/step - loss: 5.0982e-05 - accuracy: 1.0000 - val_loss: 4.2006 - val_accuracy: 0.3333\n",
      "Epoch 34/200\n",
      "15/15 [==============================] - 0s 11ms/step - loss: 4.8151e-05 - accuracy: 1.0000 - val_loss: 8.9576 - val_accuracy: 0.3333\n",
      "Epoch 35/200\n",
      "15/15 [==============================] - 0s 16ms/step - loss: 4.5489e-05 - accuracy: 1.0000 - val_loss: 4.5279 - val_accuracy: 0.3333\n",
      "Epoch 36/200\n",
      "15/15 [==============================] - 0s 10ms/step - loss: 4.2801e-05 - accuracy: 1.0000 - val_loss: 6.7426 - val_accuracy: 0.3333\n",
      "Epoch 37/200\n",
      "15/15 [==============================] - 0s 11ms/step - loss: 4.0253e-05 - accuracy: 1.0000 - val_loss: 6.3325 - val_accuracy: 0.3333\n",
      "Epoch 38/200\n",
      "15/15 [==============================] - 0s 11ms/step - loss: 3.7935e-05 - accuracy: 1.0000 - val_loss: 0.0012 - val_accuracy: 0.3333\n",
      "Epoch 39/200\n",
      "15/15 [==============================] - 0s 11ms/step - loss: 3.6311e-05 - accuracy: 1.0000 - val_loss: 12.4184 - val_accuracy: 0.3333\n",
      "Epoch 40/200\n",
      "15/15 [==============================] - 0s 11ms/step - loss: 3.3774e-05 - accuracy: 1.0000 - val_loss: 7.4310 - val_accuracy: 0.3333\n",
      "Epoch 41/200\n",
      "15/15 [==============================] - 0s 10ms/step - loss: 3.1999e-05 - accuracy: 1.0000 - val_loss: 6.5106 - val_accuracy: 0.3333\n",
      "Epoch 42/200\n",
      "15/15 [==============================] - 0s 11ms/step - loss: 3.0301e-05 - accuracy: 1.0000 - val_loss: 3.3277 - val_accuracy: 0.3333\n",
      "Epoch 43/200\n",
      "15/15 [==============================] - 0s 16ms/step - loss: 2.8317e-05 - accuracy: 1.0000 - val_loss: 9.5459 - val_accuracy: 0.3333\n",
      "Epoch 44/200\n",
      "15/15 [==============================] - 0s 11ms/step - loss: 2.7184e-05 - accuracy: 1.0000 - val_loss: 2.8360 - val_accuracy: 0.3333\n",
      "Epoch 45/200\n",
      "15/15 [==============================] - 0s 11ms/step - loss: 2.5152e-05 - accuracy: 1.0000 - val_loss: 1.7764 - val_accuracy: 0.3333\n",
      "Epoch 46/200\n",
      "15/15 [==============================] - 0s 11ms/step - loss: 2.3798e-05 - accuracy: 1.0000 - val_loss: 8.4899 - val_accuracy: 0.3333\n",
      "Epoch 47/200\n",
      "15/15 [==============================] - 0s 11ms/step - loss: 2.2410e-05 - accuracy: 1.0000 - val_loss: 9.9113 - val_accuracy: 0.3333\n",
      "Epoch 48/200\n",
      "15/15 [==============================] - 0s 10ms/step - loss: 2.1189e-05 - accuracy: 1.0000 - val_loss: 4.2779 - val_accuracy: 0.3333\n",
      "Epoch 49/200\n",
      "15/15 [==============================] - 0s 11ms/step - loss: 1.9899e-05 - accuracy: 1.0000 - val_loss: 3.9554 - val_accuracy: 0.3333\n",
      "Epoch 50/200\n",
      "15/15 [==============================] - 0s 11ms/step - loss: 1.8940e-05 - accuracy: 1.0000 - val_loss: 9.6722 - val_accuracy: 0.3333\n",
      "Epoch 51/200\n",
      "15/15 [==============================] - 0s 11ms/step - loss: 1.7775e-05 - accuracy: 1.0000 - val_loss: 6.8294 - val_accuracy: 0.3333\n",
      "Epoch 52/200\n",
      "15/15 [==============================] - 0s 11ms/step - loss: 1.7044e-05 - accuracy: 1.0000 - val_loss: 12.7917 - val_accuracy: 0.3333\n",
      "Epoch 53/200\n",
      "15/15 [==============================] - 0s 10ms/step - loss: 1.6164e-05 - accuracy: 1.0000 - val_loss: 2.4763 - val_accuracy: 0.3333\n",
      "Epoch 54/200\n",
      "15/15 [==============================] - 0s 11ms/step - loss: 1.5380e-05 - accuracy: 1.0000 - val_loss: 4.6244 - val_accuracy: 0.3333\n",
      "Epoch 55/200\n",
      "15/15 [==============================] - 0s 11ms/step - loss: 1.4530e-05 - accuracy: 1.0000 - val_loss: 6.3411 - val_accuracy: 0.3333\n",
      "Epoch 56/200\n",
      "15/15 [==============================] - 0s 11ms/step - loss: 1.3759e-05 - accuracy: 1.0000 - val_loss: 10.9610 - val_accuracy: 0.3333\n"
     ]
    },
    {
     "name": "stdout",
     "output_type": "stream",
     "text": [
      "Epoch 57/200\n",
      "15/15 [==============================] - 0s 11ms/step - loss: 1.3062e-05 - accuracy: 1.0000 - val_loss: 6.3395 - val_accuracy: 0.3333\n",
      "Epoch 58/200\n",
      "15/15 [==============================] - 0s 11ms/step - loss: 1.2358e-05 - accuracy: 1.0000 - val_loss: 6.3291 - val_accuracy: 0.3333\n",
      "Epoch 59/200\n",
      "15/15 [==============================] - 0s 10ms/step - loss: 1.1733e-05 - accuracy: 1.0000 - val_loss: 10.5249 - val_accuracy: 0.3333\n",
      "Epoch 60/200\n",
      "15/15 [==============================] - 0s 10ms/step - loss: 1.1134e-05 - accuracy: 1.0000 - val_loss: 8.6307 - val_accuracy: 0.3333\n",
      "Epoch 61/200\n",
      "15/15 [==============================] - 0s 10ms/step - loss: 1.0567e-05 - accuracy: 1.0000 - val_loss: 12.4392 - val_accuracy: 0.3333\n",
      "Epoch 62/200\n",
      "15/15 [==============================] - 0s 11ms/step - loss: 1.0138e-05 - accuracy: 1.0000 - val_loss: 10.5852 - val_accuracy: 0.3333\n",
      "Epoch 63/200\n",
      "15/15 [==============================] - 0s 10ms/step - loss: 9.6611e-06 - accuracy: 1.0000 - val_loss: 17.2386 - val_accuracy: 0.3333\n",
      "Epoch 64/200\n",
      "15/15 [==============================] - 0s 10ms/step - loss: 9.1180e-06 - accuracy: 1.0000 - val_loss: 0.5493 - val_accuracy: 0.3333\n",
      "Epoch 65/200\n",
      "15/15 [==============================] - 0s 10ms/step - loss: 8.7631e-06 - accuracy: 1.0000 - val_loss: 10.9315 - val_accuracy: 0.3333\n",
      "Epoch 66/200\n",
      "15/15 [==============================] - 0s 11ms/step - loss: 8.3498e-06 - accuracy: 1.0000 - val_loss: 15.4466 - val_accuracy: 0.3333\n",
      "Epoch 67/200\n",
      "15/15 [==============================] - 0s 11ms/step - loss: 7.9445e-06 - accuracy: 1.0000 - val_loss: 6.8308 - val_accuracy: 0.3333\n",
      "Epoch 68/200\n",
      "15/15 [==============================] - 0s 10ms/step - loss: 7.6399e-06 - accuracy: 1.0000 - val_loss: 12.9630 - val_accuracy: 0.3333\n",
      "Epoch 69/200\n",
      "15/15 [==============================] - 0s 11ms/step - loss: 7.3273e-06 - accuracy: 1.0000 - val_loss: 9.4563 - val_accuracy: 0.3333\n",
      "Epoch 70/200\n",
      "15/15 [==============================] - 0s 11ms/step - loss: 6.9909e-06 - accuracy: 1.0000 - val_loss: 8.2310 - val_accuracy: 0.3333\n",
      "Epoch 71/200\n",
      "15/15 [==============================] - 0s 11ms/step - loss: 6.6783e-06 - accuracy: 1.0000 - val_loss: 7.1130 - val_accuracy: 0.3333\n",
      "Epoch 72/200\n",
      "15/15 [==============================] - 0s 10ms/step - loss: 6.4134e-06 - accuracy: 1.0000 - val_loss: 6.1317 - val_accuracy: 0.3333\n",
      "Epoch 73/200\n",
      "15/15 [==============================] - 0s 11ms/step - loss: 6.1697e-06 - accuracy: 1.0000 - val_loss: 7.7244 - val_accuracy: 0.3333\n",
      "Epoch 74/200\n",
      "15/15 [==============================] - 0s 10ms/step - loss: 5.9127e-06 - accuracy: 1.0000 - val_loss: 4.6784 - val_accuracy: 0.3333\n",
      "Epoch 75/200\n",
      "15/15 [==============================] - 0s 11ms/step - loss: 5.6478e-06 - accuracy: 1.0000 - val_loss: 7.3259 - val_accuracy: 0.3333\n",
      "Epoch 76/200\n",
      "15/15 [==============================] - 0s 10ms/step - loss: 5.4756e-06 - accuracy: 1.0000 - val_loss: 4.3609 - val_accuracy: 0.3333\n",
      "Epoch 77/200\n",
      "15/15 [==============================] - 0s 11ms/step - loss: 5.2240e-06 - accuracy: 1.0000 - val_loss: 6.5025 - val_accuracy: 0.3333\n",
      "Epoch 78/200\n",
      "15/15 [==============================] - 0s 10ms/step - loss: 5.0226e-06 - accuracy: 1.0000 - val_loss: 9.2561 - val_accuracy: 0.3333\n",
      "Epoch 79/200\n",
      "15/15 [==============================] - 0s 10ms/step - loss: 4.8425e-06 - accuracy: 1.0000 - val_loss: 9.7352 - val_accuracy: 0.3333\n",
      "Epoch 80/200\n",
      "15/15 [==============================] - 0s 11ms/step - loss: 4.6412e-06 - accuracy: 1.0000 - val_loss: 7.0217 - val_accuracy: 0.3333\n",
      "Epoch 81/200\n",
      "15/15 [==============================] - 0s 10ms/step - loss: 4.4796e-06 - accuracy: 1.0000 - val_loss: 4.7454 - val_accuracy: 0.3333\n",
      "Epoch 82/200\n",
      "15/15 [==============================] - 0s 10ms/step - loss: 4.2756e-06 - accuracy: 1.0000 - val_loss: 3.1012 - val_accuracy: 0.3333\n",
      "Epoch 83/200\n",
      "15/15 [==============================] - 0s 11ms/step - loss: 4.1590e-06 - accuracy: 1.0000 - val_loss: 4.7666 - val_accuracy: 0.3333\n",
      "Epoch 84/200\n",
      "15/15 [==============================] - 0s 11ms/step - loss: 3.9869e-06 - accuracy: 1.0000 - val_loss: 3.6855 - val_accuracy: 0.3333\n",
      "Epoch 85/200\n",
      "15/15 [==============================] - 0s 11ms/step - loss: 3.8412e-06 - accuracy: 1.0000 - val_loss: 8.6024 - val_accuracy: 0.3333\n",
      "Epoch 86/200\n",
      "15/15 [==============================] - 0s 11ms/step - loss: 3.7167e-06 - accuracy: 1.0000 - val_loss: 6.7241 - val_accuracy: 0.3333\n",
      "Epoch 87/200\n",
      "15/15 [==============================] - 0s 10ms/step - loss: 3.5604e-06 - accuracy: 1.0000 - val_loss: 7.4751 - val_accuracy: 0.3333\n",
      "Epoch 88/200\n",
      "15/15 [==============================] - 0s 11ms/step - loss: 3.4147e-06 - accuracy: 1.0000 - val_loss: 5.1772 - val_accuracy: 0.3333\n",
      "Epoch 89/200\n",
      "15/15 [==============================] - 0s 11ms/step - loss: 3.3008e-06 - accuracy: 1.0000 - val_loss: 11.6399 - val_accuracy: 0.3333\n",
      "Epoch 90/200\n",
      "15/15 [==============================] - 0s 11ms/step - loss: 3.1789e-06 - accuracy: 1.0000 - val_loss: 9.3282 - val_accuracy: 0.3333\n",
      "Epoch 91/200\n",
      "15/15 [==============================] - 0s 16ms/step - loss: 3.0491e-06 - accuracy: 1.0000 - val_loss: 0.5894 - val_accuracy: 0.3333\n",
      "Epoch 92/200\n",
      "15/15 [==============================] - 0s 10ms/step - loss: 2.9219e-06 - accuracy: 1.0000 - val_loss: 8.7029 - val_accuracy: 0.3333\n",
      "Epoch 93/200\n",
      "15/15 [==============================] - 0s 10ms/step - loss: 2.8292e-06 - accuracy: 1.0000 - val_loss: 13.4062 - val_accuracy: 0.3333\n",
      "Epoch 94/200\n",
      "15/15 [==============================] - 0s 10ms/step - loss: 2.7100e-06 - accuracy: 1.0000 - val_loss: 6.8246 - val_accuracy: 0.3333\n",
      "Epoch 95/200\n",
      "15/15 [==============================] - 0s 10ms/step - loss: 2.5935e-06 - accuracy: 1.0000 - val_loss: 12.8472 - val_accuracy: 0.3333\n",
      "Epoch 96/200\n",
      "15/15 [==============================] - 0s 10ms/step - loss: 2.4901e-06 - accuracy: 1.0000 - val_loss: 8.4563 - val_accuracy: 0.3333\n",
      "Epoch 97/200\n",
      "15/15 [==============================] - 0s 10ms/step - loss: 2.3683e-06 - accuracy: 1.0000 - val_loss: 11.4672 - val_accuracy: 0.3333\n",
      "Epoch 98/200\n",
      "15/15 [==============================] - 0s 10ms/step - loss: 2.2623e-06 - accuracy: 1.0000 - val_loss: 9.0940 - val_accuracy: 0.3333\n",
      "Epoch 99/200\n",
      "15/15 [==============================] - 0s 10ms/step - loss: 2.1670e-06 - accuracy: 1.0000 - val_loss: 10.9756 - val_accuracy: 0.3333\n",
      "Epoch 100/200\n",
      "15/15 [==============================] - 0s 10ms/step - loss: 2.0769e-06 - accuracy: 1.0000 - val_loss: 10.1811 - val_accuracy: 0.3333\n",
      "Epoch 101/200\n",
      "15/15 [==============================] - 0s 11ms/step - loss: 2.0080e-06 - accuracy: 1.0000 - val_loss: 15.9266 - val_accuracy: 0.3333\n",
      "Epoch 102/200\n",
      "15/15 [==============================] - 0s 11ms/step - loss: 1.9444e-06 - accuracy: 1.0000 - val_loss: 11.5466 - val_accuracy: 0.3333\n",
      "Epoch 103/200\n",
      "15/15 [==============================] - 0s 11ms/step - loss: 1.8941e-06 - accuracy: 1.0000 - val_loss: 10.6343 - val_accuracy: 0.3333\n",
      "Epoch 104/200\n",
      "15/15 [==============================] - 0s 11ms/step - loss: 1.8358e-06 - accuracy: 1.0000 - val_loss: 12.9253 - val_accuracy: 0.3333\n",
      "Epoch 105/200\n",
      "15/15 [==============================] - 0s 11ms/step - loss: 1.7749e-06 - accuracy: 1.0000 - val_loss: 2.2057 - val_accuracy: 0.3333\n",
      "Epoch 106/200\n",
      "15/15 [==============================] - 0s 10ms/step - loss: 1.7193e-06 - accuracy: 1.0000 - val_loss: 6.9581 - val_accuracy: 0.3333\n",
      "Epoch 107/200\n",
      "15/15 [==============================] - 0s 11ms/step - loss: 1.6742e-06 - accuracy: 1.0000 - val_loss: 10.1052 - val_accuracy: 0.3333\n",
      "Epoch 108/200\n",
      "15/15 [==============================] - 0s 11ms/step - loss: 1.6292e-06 - accuracy: 1.0000 - val_loss: 5.7520 - val_accuracy: 0.3333\n",
      "Epoch 109/200\n",
      "15/15 [==============================] - 0s 11ms/step - loss: 1.5709e-06 - accuracy: 1.0000 - val_loss: 9.1211 - val_accuracy: 0.3333\n",
      "Epoch 110/200\n",
      "15/15 [==============================] - 0s 10ms/step - loss: 1.5206e-06 - accuracy: 1.0000 - val_loss: 10.7679 - val_accuracy: 0.3333\n",
      "Epoch 111/200\n",
      "15/15 [==============================] - 0s 10ms/step - loss: 1.4967e-06 - accuracy: 1.0000 - val_loss: 7.6445 - val_accuracy: 0.3333\n",
      "Epoch 112/200\n",
      "15/15 [==============================] - 0s 11ms/step - loss: 1.4358e-06 - accuracy: 1.0000 - val_loss: 5.7721 - val_accuracy: 0.3333\n",
      "Epoch 113/200\n",
      "15/15 [==============================] - 0s 10ms/step - loss: 1.4040e-06 - accuracy: 1.0000 - val_loss: 3.8397 - val_accuracy: 0.3333\n",
      "Epoch 114/200\n",
      "15/15 [==============================] - 0s 10ms/step - loss: 1.3643e-06 - accuracy: 1.0000 - val_loss: 9.5018 - val_accuracy: 0.3333\n",
      "Epoch 115/200\n",
      "15/15 [==============================] - 0s 11ms/step - loss: 1.3272e-06 - accuracy: 1.0000 - val_loss: 6.3615 - val_accuracy: 0.3333\n",
      "Epoch 116/200\n",
      "15/15 [==============================] - 0s 16ms/step - loss: 1.2981e-06 - accuracy: 1.0000 - val_loss: 9.9188 - val_accuracy: 0.3333\n",
      "Epoch 117/200\n",
      "15/15 [==============================] - 0s 10ms/step - loss: 1.2689e-06 - accuracy: 1.0000 - val_loss: 8.9301 - val_accuracy: 0.3333\n",
      "Epoch 118/200\n",
      "15/15 [==============================] - 0s 11ms/step - loss: 1.2345e-06 - accuracy: 1.0000 - val_loss: 2.8821 - val_accuracy: 0.3333\n",
      "Epoch 119/200\n",
      "15/15 [==============================] - 0s 10ms/step - loss: 1.2053e-06 - accuracy: 1.0000 - val_loss: 2.2558 - val_accuracy: 0.3333\n",
      "Epoch 120/200\n",
      "15/15 [==============================] - 0s 11ms/step - loss: 1.1841e-06 - accuracy: 1.0000 - val_loss: 5.4975 - val_accuracy: 0.3333\n",
      "Epoch 121/200\n",
      "15/15 [==============================] - 0s 10ms/step - loss: 1.1444e-06 - accuracy: 1.0000 - val_loss: 5.3808 - val_accuracy: 0.3333\n",
      "Epoch 122/200\n",
      "15/15 [==============================] - 0s 10ms/step - loss: 1.1259e-06 - accuracy: 1.0000 - val_loss: 10.4937 - val_accuracy: 0.3333\n",
      "Epoch 123/200\n",
      "15/15 [==============================] - 0s 11ms/step - loss: 1.0941e-06 - accuracy: 1.0000 - val_loss: 7.0252 - val_accuracy: 0.3333\n",
      "Epoch 124/200\n",
      "15/15 [==============================] - 0s 10ms/step - loss: 1.0676e-06 - accuracy: 1.0000 - val_loss: 9.3228 - val_accuracy: 0.3333\n",
      "Epoch 125/200\n",
      "15/15 [==============================] - 0s 10ms/step - loss: 1.0517e-06 - accuracy: 1.0000 - val_loss: 4.8591 - val_accuracy: 0.3333\n",
      "Epoch 126/200\n",
      "15/15 [==============================] - 0s 10ms/step - loss: 1.0331e-06 - accuracy: 1.0000 - val_loss: 14.3902 - val_accuracy: 0.3333\n",
      "Epoch 127/200\n",
      "15/15 [==============================] - 0s 11ms/step - loss: 1.0067e-06 - accuracy: 1.0000 - val_loss: 0.6429 - val_accuracy: 0.3333\n",
      "Epoch 128/200\n",
      "15/15 [==============================] - 0s 11ms/step - loss: 9.7751e-07 - accuracy: 1.0000 - val_loss: 8.9622 - val_accuracy: 0.3333\n",
      "Epoch 129/200\n",
      "15/15 [==============================] - 0s 11ms/step - loss: 9.5632e-07 - accuracy: 1.0000 - val_loss: 8.0302 - val_accuracy: 0.3333\n",
      "Epoch 130/200\n",
      "15/15 [==============================] - 0s 11ms/step - loss: 9.3778e-07 - accuracy: 1.0000 - val_loss: 11.6435 - val_accuracy: 0.3333\n",
      "Epoch 131/200\n",
      "15/15 [==============================] - 0s 10ms/step - loss: 9.1129e-07 - accuracy: 1.0000 - val_loss: 10.5855 - val_accuracy: 0.3333\n",
      "Epoch 132/200\n",
      "15/15 [==============================] - 0s 10ms/step - loss: 8.8745e-07 - accuracy: 1.0000 - val_loss: 8.4186 - val_accuracy: 0.3333\n",
      "Epoch 133/200\n",
      "15/15 [==============================] - 0s 11ms/step - loss: 8.7685e-07 - accuracy: 1.0000 - val_loss: 11.1942 - val_accuracy: 0.3333\n",
      "Epoch 134/200\n",
      "15/15 [==============================] - 0s 16ms/step - loss: 8.6095e-07 - accuracy: 1.0000 - val_loss: 0.0021 - val_accuracy: 0.3333\n",
      "Epoch 135/200\n",
      "15/15 [==============================] - 0s 10ms/step - loss: 8.3976e-07 - accuracy: 1.0000 - val_loss: 5.5716 - val_accuracy: 0.3333\n",
      "Epoch 136/200\n",
      "15/15 [==============================] - 0s 10ms/step - loss: 8.2122e-07 - accuracy: 1.0000 - val_loss: 11.9714 - val_accuracy: 0.3333\n",
      "Epoch 137/200\n",
      "15/15 [==============================] - 0s 10ms/step - loss: 8.0797e-07 - accuracy: 1.0000 - val_loss: 15.7441 - val_accuracy: 0.3333\n",
      "Epoch 138/200\n",
      "15/15 [==============================] - 0s 10ms/step - loss: 7.9208e-07 - accuracy: 1.0000 - val_loss: 8.4623 - val_accuracy: 0.3333\n",
      "Epoch 139/200\n",
      "15/15 [==============================] - 0s 10ms/step - loss: 7.7883e-07 - accuracy: 1.0000 - val_loss: 3.2681 - val_accuracy: 0.3333\n",
      "Epoch 140/200\n",
      "15/15 [==============================] - 0s 11ms/step - loss: 7.6294e-07 - accuracy: 1.0000 - val_loss: 2.6196 - val_accuracy: 0.3333\n",
      "Epoch 141/200\n",
      "15/15 [==============================] - 0s 10ms/step - loss: 7.4175e-07 - accuracy: 1.0000 - val_loss: 12.3479 - val_accuracy: 0.3333\n",
      "Epoch 142/200\n",
      "15/15 [==============================] - 0s 10ms/step - loss: 7.3380e-07 - accuracy: 1.0000 - val_loss: 2.9846 - val_accuracy: 0.3333\n",
      "Epoch 143/200\n",
      "15/15 [==============================] - 0s 10ms/step - loss: 7.2055e-07 - accuracy: 1.0000 - val_loss: 10.8254 - val_accuracy: 0.3333\n",
      "Epoch 144/200\n",
      "15/15 [==============================] - 0s 11ms/step - loss: 7.0731e-07 - accuracy: 1.0000 - val_loss: 7.1539 - val_accuracy: 0.3333\n",
      "Epoch 145/200\n",
      "15/15 [==============================] - 0s 11ms/step - loss: 6.9406e-07 - accuracy: 1.0000 - val_loss: 11.8023 - val_accuracy: 0.3333\n",
      "Epoch 146/200\n",
      "15/15 [==============================] - 0s 11ms/step - loss: 6.7817e-07 - accuracy: 1.0000 - val_loss: 5.6187 - val_accuracy: 0.3333\n",
      "Epoch 147/200\n",
      "15/15 [==============================] - 0s 11ms/step - loss: 6.6757e-07 - accuracy: 1.0000 - val_loss: 12.2545 - val_accuracy: 0.3333\n",
      "Epoch 148/200\n",
      "15/15 [==============================] - 0s 11ms/step - loss: 6.5697e-07 - accuracy: 1.0000 - val_loss: 6.2867 - val_accuracy: 0.3333\n",
      "Epoch 149/200\n",
      "15/15 [==============================] - 0s 11ms/step - loss: 6.4638e-07 - accuracy: 1.0000 - val_loss: 6.2044 - val_accuracy: 0.3333\n",
      "Epoch 150/200\n",
      "15/15 [==============================] - 0s 11ms/step - loss: 6.3048e-07 - accuracy: 1.0000 - val_loss: 8.5501 - val_accuracy: 0.3333\n",
      "Epoch 151/200\n",
      "15/15 [==============================] - 0s 11ms/step - loss: 6.1459e-07 - accuracy: 1.0000 - val_loss: 1.5267e-04 - val_accuracy: 0.3333\n",
      "Epoch 152/200\n",
      "15/15 [==============================] - 0s 10ms/step - loss: 6.0134e-07 - accuracy: 1.0000 - val_loss: 3.2969 - val_accuracy: 0.3333\n",
      "Epoch 153/200\n",
      "15/15 [==============================] - 0s 10ms/step - loss: 5.9869e-07 - accuracy: 1.0000 - val_loss: 9.5233 - val_accuracy: 0.3333\n",
      "Epoch 154/200\n",
      "15/15 [==============================] - 0s 10ms/step - loss: 5.9075e-07 - accuracy: 1.0000 - val_loss: 6.7326 - val_accuracy: 0.3333\n",
      "Epoch 155/200\n",
      "15/15 [==============================] - 0s 11ms/step - loss: 5.7750e-07 - accuracy: 1.0000 - val_loss: 5.2639 - val_accuracy: 0.3333\n",
      "Epoch 156/200\n",
      "15/15 [==============================] - 0s 10ms/step - loss: 5.6161e-07 - accuracy: 1.0000 - val_loss: 5.9355 - val_accuracy: 0.3333\n",
      "Epoch 157/200\n",
      "15/15 [==============================] - 0s 11ms/step - loss: 5.5896e-07 - accuracy: 1.0000 - val_loss: 3.3053 - val_accuracy: 0.3333\n",
      "Epoch 158/200\n",
      "15/15 [==============================] - 0s 11ms/step - loss: 5.4836e-07 - accuracy: 1.0000 - val_loss: 8.8903 - val_accuracy: 0.3333\n",
      "Epoch 159/200\n",
      "15/15 [==============================] - 0s 11ms/step - loss: 5.3247e-07 - accuracy: 1.0000 - val_loss: 11.3050 - val_accuracy: 0.3333\n",
      "Epoch 160/200\n",
      "15/15 [==============================] - 0s 11ms/step - loss: 5.3247e-07 - accuracy: 1.0000 - val_loss: 3.3087 - val_accuracy: 0.3333\n",
      "Epoch 161/200\n",
      "15/15 [==============================] - 0s 11ms/step - loss: 5.2717e-07 - accuracy: 1.0000 - val_loss: 4.5691 - val_accuracy: 0.3333\n",
      "Epoch 162/200\n",
      "15/15 [==============================] - 0s 10ms/step - loss: 5.1392e-07 - accuracy: 1.0000 - val_loss: 9.1344 - val_accuracy: 0.3333\n",
      "Epoch 163/200\n",
      "15/15 [==============================] - 0s 11ms/step - loss: 5.1127e-07 - accuracy: 1.0000 - val_loss: 5.6588 - val_accuracy: 0.3333\n",
      "Epoch 164/200\n",
      "15/15 [==============================] - 0s 11ms/step - loss: 4.9803e-07 - accuracy: 1.0000 - val_loss: 12.1144 - val_accuracy: 0.3333\n",
      "Epoch 165/200\n",
      "15/15 [==============================] - 0s 11ms/step - loss: 4.9273e-07 - accuracy: 1.0000 - val_loss: 7.2173 - val_accuracy: 0.3333\n",
      "Epoch 166/200\n",
      "15/15 [==============================] - 0s 16ms/step - loss: 4.8478e-07 - accuracy: 1.0000 - val_loss: 3.9978 - val_accuracy: 0.3333\n",
      "Epoch 167/200\n"
     ]
    },
    {
     "name": "stdout",
     "output_type": "stream",
     "text": [
      "15/15 [==============================] - 0s 11ms/step - loss: 4.7949e-07 - accuracy: 1.0000 - val_loss: 3.0296 - val_accuracy: 0.3333\n",
      "Epoch 168/200\n",
      "15/15 [==============================] - 0s 11ms/step - loss: 4.6624e-07 - accuracy: 1.0000 - val_loss: 3.7097 - val_accuracy: 0.3333\n",
      "Epoch 169/200\n",
      "15/15 [==============================] - 0s 11ms/step - loss: 4.6094e-07 - accuracy: 1.0000 - val_loss: 5.9673 - val_accuracy: 0.3333\n",
      "Epoch 170/200\n",
      "15/15 [==============================] - 0s 10ms/step - loss: 4.5035e-07 - accuracy: 1.0000 - val_loss: 12.5116 - val_accuracy: 0.3333\n",
      "Epoch 171/200\n",
      "15/15 [==============================] - 0s 11ms/step - loss: 4.4505e-07 - accuracy: 1.0000 - val_loss: 5.2694 - val_accuracy: 0.3333\n",
      "Epoch 172/200\n",
      "15/15 [==============================] - 0s 10ms/step - loss: 4.3710e-07 - accuracy: 1.0000 - val_loss: 11.6462 - val_accuracy: 0.3333\n",
      "Epoch 173/200\n",
      "15/15 [==============================] - 0s 11ms/step - loss: 4.3180e-07 - accuracy: 1.0000 - val_loss: 9.5633 - val_accuracy: 0.3333\n",
      "Epoch 174/200\n",
      "15/15 [==============================] - 0s 11ms/step - loss: 4.2121e-07 - accuracy: 1.0000 - val_loss: 9.1338 - val_accuracy: 0.3333\n",
      "Epoch 175/200\n",
      "15/15 [==============================] - 0s 11ms/step - loss: 4.1856e-07 - accuracy: 1.0000 - val_loss: 10.1037 - val_accuracy: 0.3333\n",
      "Epoch 176/200\n",
      "15/15 [==============================] - 0s 10ms/step - loss: 4.1326e-07 - accuracy: 1.0000 - val_loss: 8.6660 - val_accuracy: 0.3333\n",
      "Epoch 177/200\n",
      "15/15 [==============================] - 0s 11ms/step - loss: 4.1061e-07 - accuracy: 1.0000 - val_loss: 5.4180 - val_accuracy: 0.3333\n",
      "Epoch 178/200\n",
      "15/15 [==============================] - 0s 11ms/step - loss: 4.0266e-07 - accuracy: 1.0000 - val_loss: 7.2542 - val_accuracy: 0.3333\n",
      "Epoch 179/200\n",
      "15/15 [==============================] - 0s 10ms/step - loss: 3.9471e-07 - accuracy: 1.0000 - val_loss: 8.6860 - val_accuracy: 0.3333\n",
      "Epoch 180/200\n",
      "15/15 [==============================] - 0s 11ms/step - loss: 3.9207e-07 - accuracy: 1.0000 - val_loss: 17.0601 - val_accuracy: 0.3333\n",
      "Epoch 181/200\n",
      "15/15 [==============================] - 0s 11ms/step - loss: 3.9207e-07 - accuracy: 1.0000 - val_loss: 14.0027 - val_accuracy: 0.3333\n",
      "Epoch 182/200\n",
      "15/15 [==============================] - 0s 11ms/step - loss: 3.8412e-07 - accuracy: 1.0000 - val_loss: 10.6511 - val_accuracy: 0.3333\n",
      "Epoch 183/200\n",
      "15/15 [==============================] - 0s 11ms/step - loss: 3.8147e-07 - accuracy: 1.0000 - val_loss: 9.6001 - val_accuracy: 0.3333\n",
      "Epoch 184/200\n",
      "15/15 [==============================] - 0s 16ms/step - loss: 3.7087e-07 - accuracy: 1.0000 - val_loss: 7.9620 - val_accuracy: 0.3333\n",
      "Epoch 185/200\n",
      "15/15 [==============================] - 0s 11ms/step - loss: 3.6293e-07 - accuracy: 1.0000 - val_loss: 15.7124 - val_accuracy: 0.3333\n",
      "Epoch 186/200\n",
      "15/15 [==============================] - 0s 16ms/step - loss: 3.5763e-07 - accuracy: 1.0000 - val_loss: 5.4383 - val_accuracy: 0.3333\n",
      "Epoch 187/200\n",
      "15/15 [==============================] - 0s 10ms/step - loss: 3.5233e-07 - accuracy: 1.0000 - val_loss: 0.6902 - val_accuracy: 0.3333\n",
      "Epoch 188/200\n",
      "15/15 [==============================] - 0s 10ms/step - loss: 3.4703e-07 - accuracy: 1.0000 - val_loss: 12.4952 - val_accuracy: 0.3333\n",
      "Epoch 189/200\n",
      "15/15 [==============================] - 0s 10ms/step - loss: 3.4438e-07 - accuracy: 1.0000 - val_loss: 8.7750 - val_accuracy: 0.3333\n",
      "Epoch 190/200\n",
      "15/15 [==============================] - 0s 10ms/step - loss: 3.4173e-07 - accuracy: 1.0000 - val_loss: 17.1300 - val_accuracy: 0.3333\n",
      "Epoch 191/200\n",
      "15/15 [==============================] - 0s 10ms/step - loss: 3.3643e-07 - accuracy: 1.0000 - val_loss: 2.6579 - val_accuracy: 0.3333\n",
      "Epoch 192/200\n",
      "15/15 [==============================] - 0s 10ms/step - loss: 3.2849e-07 - accuracy: 1.0000 - val_loss: 9.9239 - val_accuracy: 0.3333\n",
      "Epoch 193/200\n",
      "15/15 [==============================] - 0s 11ms/step - loss: 3.2319e-07 - accuracy: 1.0000 - val_loss: 5.7316 - val_accuracy: 0.3333\n",
      "Epoch 194/200\n",
      "15/15 [==============================] - 0s 11ms/step - loss: 3.2319e-07 - accuracy: 1.0000 - val_loss: 0.0019 - val_accuracy: 0.3333\n",
      "Epoch 195/200\n",
      "15/15 [==============================] - 0s 11ms/step - loss: 3.1524e-07 - accuracy: 1.0000 - val_loss: 3.3533 - val_accuracy: 0.3333\n",
      "Epoch 196/200\n",
      "15/15 [==============================] - 0s 17ms/step - loss: 3.0994e-07 - accuracy: 1.0000 - val_loss: 11.2123 - val_accuracy: 0.3333\n",
      "Epoch 197/200\n",
      "15/15 [==============================] - 0s 16ms/step - loss: 3.0729e-07 - accuracy: 1.0000 - val_loss: 6.0282 - val_accuracy: 0.3333\n",
      "Epoch 198/200\n",
      "15/15 [==============================] - 0s 11ms/step - loss: 3.0465e-07 - accuracy: 1.0000 - val_loss: 5.7386 - val_accuracy: 0.3333\n",
      "Epoch 199/200\n",
      "15/15 [==============================] - 0s 10ms/step - loss: 2.9935e-07 - accuracy: 1.0000 - val_loss: 3.7699 - val_accuracy: 0.3333\n",
      "Epoch 200/200\n",
      "15/15 [==============================] - 0s 11ms/step - loss: 2.9405e-07 - accuracy: 1.0000 - val_loss: 3.3690 - val_accuracy: 0.3333\n"
     ]
    },
    {
     "data": {
      "text/plain": [
       "<keras.callbacks.callbacks.History at 0x1e1db3ba308>"
      ]
     },
     "execution_count": 6,
     "metadata": {},
     "output_type": "execute_result"
    }
   ],
   "source": [
    "model.fit_generator(\n",
    "        train_generator,\n",
    "        steps_per_epoch=15,\n",
    "        epochs=200,\n",
    "        validation_data=test_generator,\n",
    "        validation_steps=5)"
   ]
  },
  {
   "cell_type": "markdown",
   "metadata": {
    "colab_type": "text",
    "id": "uT9NEiI-uy52"
   },
   "source": [
    "### 모델 평가하기"
   ]
  },
  {
   "cell_type": "code",
   "execution_count": 7,
   "metadata": {
    "colab": {
     "base_uri": "https://localhost:8080/",
     "height": 53
    },
    "colab_type": "code",
    "id": "XZ8jXxlIu1SE",
    "outputId": "d27cd618-d626-4874-d6fe-03cd36b7d393"
   },
   "outputs": [
    {
     "name": "stdout",
     "output_type": "stream",
     "text": [
      "-- Evaluate --\n",
      "accuracy: 33.33%\n"
     ]
    }
   ],
   "source": [
    "print(\"-- Evaluate --\")\n",
    "scores = model.evaluate_generator(test_generator, steps=5)\n",
    "print(\"%s: %.2f%%\" %(model.metrics_names[1], scores[1]*100))"
   ]
  },
  {
   "cell_type": "code",
   "execution_count": null,
   "metadata": {},
   "outputs": [],
   "source": []
  },
  {
   "cell_type": "markdown",
   "metadata": {
    "colab_type": "text",
    "id": "QTlRD9Mqu9K6"
   },
   "source": [
    "### 모델 사용하기"
   ]
  },
  {
   "cell_type": "code",
   "execution_count": 8,
   "metadata": {
    "colab": {
     "base_uri": "https://localhost:8080/",
     "height": 323
    },
    "colab_type": "code",
    "id": "Wabhqvy-u48Q",
    "outputId": "abb1e734-766a-45dc-b25b-c9b2c8d38a8d"
   },
   "outputs": [
    {
     "name": "stdout",
     "output_type": "stream",
     "text": [
      "-- Predict --\n",
      "{'circle': 0, 'rectangle': 1, 'triangle': 2}\n",
      "[[0.000 0.000 1.000]\n",
      " [0.000 0.000 1.000]\n",
      " [0.000 0.000 1.000]\n",
      " [0.000 0.000 1.000]\n",
      " [0.006 0.000 0.994]\n",
      " [0.124 0.000 0.876]\n",
      " [0.000 0.000 1.000]\n",
      " [0.074 0.001 0.925]\n",
      " [0.000 0.000 1.000]\n",
      " [0.000 0.000 1.000]\n",
      " [0.000 0.000 1.000]\n",
      " [0.000 0.000 1.000]\n",
      " [0.000 0.000 1.000]\n",
      " [0.000 0.000 1.000]\n",
      " [0.000 0.000 1.000]]\n"
     ]
    }
   ],
   "source": [
    "print(\"-- Predict --\")\n",
    "output = model.predict_generator(test_generator, steps=5)\n",
    "np.set_printoptions(formatter={'float': lambda x: \"{0:0.3f}\".format(x)})\n",
    "print(test_generator.class_indices)\n",
    "print(output)"
   ]
  },
  {
   "cell_type": "code",
   "execution_count": 9,
   "metadata": {
    "colab": {},
    "colab_type": "code",
    "id": "jVItItOmvZOJ"
   },
   "outputs": [
    {
     "name": "stdout",
     "output_type": "stream",
     "text": [
      "circle\\circle021.png 0 2\n",
      "circle\\circle022.png 0 2\n",
      "circle\\circle023.png 0 2\n",
      "circle\\circle024.png 0 2\n",
      "circle\\circle025.png 0 2\n",
      "rectangle\\rectangle021.png 1 2\n",
      "rectangle\\rectangle022.png 1 2\n",
      "rectangle\\rectangle023.png 1 2\n",
      "rectangle\\rectangle024.png 1 2\n",
      "rectangle\\rectangle025.png 1 2\n",
      "triangle\\triangle021.png 2 2\n",
      "triangle\\triangle022.png 2 2\n",
      "triangle\\triangle023.png 2 2\n",
      "triangle\\triangle024.png 2 2\n",
      "triangle\\triangle025.png 2 2\n"
     ]
    }
   ],
   "source": [
    "for i in range(len(test_generator.labels)):\n",
    "    print(test_generator.filenames[i], test_generator.labels[i], np.argmax(output[i]))"
   ]
  },
  {
   "cell_type": "code",
   "execution_count": null,
   "metadata": {},
   "outputs": [],
   "source": []
  }
 ],
 "metadata": {
  "colab": {
   "collapsed_sections": [],
   "name": "PolygonClassfication_02_HardTest.ipynb",
   "provenance": [],
   "version": "0.3.2"
  },
  "kernelspec": {
   "display_name": "Python 3",
   "language": "python",
   "name": "python3"
  },
  "language_info": {
   "codemirror_mode": {
    "name": "ipython",
    "version": 3
   },
   "file_extension": ".py",
   "mimetype": "text/x-python",
   "name": "python",
   "nbconvert_exporter": "python",
   "pygments_lexer": "ipython3",
   "version": "3.7.7"
  }
 },
 "nbformat": 4,
 "nbformat_minor": 1
}
