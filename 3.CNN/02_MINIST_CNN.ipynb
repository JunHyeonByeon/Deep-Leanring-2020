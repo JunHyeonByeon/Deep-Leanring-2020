{
 "cells": [
  {
   "cell_type": "markdown",
   "metadata": {},
   "source": [
    "# 이미지 인식 - CNN\n",
    "## MNIST 사례"
   ]
  },
  {
   "cell_type": "code",
   "execution_count": 1,
   "metadata": {},
   "outputs": [],
   "source": [
    "import numpy as np\n",
    "import tensorflow as tf\n",
    "\n",
    "from tensorflow import keras\n",
    "from tensorflow.keras.datasets import mnist\n",
    "from tensorflow.keras.models import Sequential\n",
    "from tensorflow.keras.layers import Dense, Dropout, Flatten, Conv2D, MaxPooling2D\n",
    "from tensorflow.keras.callbacks import ModelCheckpoint, EarlyStopping\n",
    "\n",
    "import os\n",
    "import matplotlib.pyplot as plt\n",
    "%matplotlib inline"
   ]
  },
  {
   "cell_type": "code",
   "execution_count": 2,
   "metadata": {},
   "outputs": [],
   "source": [
    "# seed 값 설정\n",
    "seed = 2020\n",
    "np.random.seed(seed)\n",
    "tf.random.set_seed(seed)"
   ]
  },
  {
   "cell_type": "code",
   "execution_count": 4,
   "metadata": {},
   "outputs": [],
   "source": [
    "# 데이터 불러오기\n",
    "(X_train, Y_train), (X_test, Y_test) = mnist.load_data()\n",
    "X_train = X_train.reshape(-1, 28, 28, 1).astype('float32') / 255\n",
    "X_test = X_test.reshape(-1, 28, 28, 1).astype('float32') / 255\n",
    "Y_train = tf.keras.utils.to_categorical(Y_train)\n",
    "Y_test = tf.keras.utils.to_categorical(Y_test)"
   ]
  },
  {
   "cell_type": "code",
   "execution_count": 6,
   "metadata": {},
   "outputs": [
    {
     "name": "stdout",
     "output_type": "stream",
     "text": [
      "Model: \"sequential_1\"\n",
      "_________________________________________________________________\n",
      "Layer (type)                 Output Shape              Param #   \n",
      "=================================================================\n",
      "conv2d_2 (Conv2D)            (None, 26, 26, 32)        320       \n",
      "_________________________________________________________________\n",
      "conv2d_3 (Conv2D)            (None, 24, 24, 64)        18496     \n",
      "_________________________________________________________________\n",
      "max_pooling2d_1 (MaxPooling2 (None, 12, 12, 64)        0         \n",
      "_________________________________________________________________\n",
      "dropout_2 (Dropout)          (None, 12, 12, 64)        0         \n",
      "_________________________________________________________________\n",
      "flatten_1 (Flatten)          (None, 9216)              0         \n",
      "_________________________________________________________________\n",
      "dense_2 (Dense)              (None, 128)               1179776   \n",
      "_________________________________________________________________\n",
      "dropout_3 (Dropout)          (None, 128)               0         \n",
      "_________________________________________________________________\n",
      "dense_3 (Dense)              (None, 10)                1290      \n",
      "=================================================================\n",
      "Total params: 1,199,882\n",
      "Trainable params: 1,199,882\n",
      "Non-trainable params: 0\n",
      "_________________________________________________________________\n"
     ]
    }
   ],
   "source": [
    "# 컨볼루션 신경망 설정\n",
    "model = Sequential([\n",
    "    Conv2D(32, kernel_size=(3, 3), input_shape=(28, 28, 1), activation='relu'),\n",
    "    Conv2D(64, (3, 3), activation='relu'),\n",
    "    MaxPooling2D(pool_size=2),\n",
    "    Dropout(0.25),\n",
    "    Flatten(),\n",
    "    Dense(128, activation='relu'),\n",
    "    Dropout(0.5),\n",
    "    Dense(10, activation='softmax')\n",
    "])\n",
    "model.summary()"
   ]
  },
  {
   "cell_type": "code",
   "execution_count": 12,
   "metadata": {},
   "outputs": [],
   "source": [
    "model.compile(loss='categorical_crossentropy',\n",
    "              optimizer='adam',\n",
    "              metrics=['accuracy'])"
   ]
  },
  {
   "cell_type": "code",
   "execution_count": 13,
   "metadata": {},
   "outputs": [],
   "source": [
    "# 모델 최적화 설정\n",
    "MODEL_DIR = './model/'\n",
    "if not os.path.exists(MODEL_DIR):\n",
    "    os.mkdir(MODEL_DIR)"
   ]
  },
  {
   "cell_type": "code",
   "execution_count": 14,
   "metadata": {},
   "outputs": [],
   "source": [
    "modelpath = MODEL_DIR + \"mnist-cnn-{epoch:02d}-{val_loss:.4f}.hdf5\"\n",
    "checkpointer = ModelCheckpoint(filepath=modelpath, monitor='val_loss', \n",
    "                               verbose=1, save_best_only=True)\n",
    "early_stopping_callback = EarlyStopping(monitor='val_loss', patience=10)"
   ]
  },
  {
   "cell_type": "code",
   "execution_count": 15,
   "metadata": {
    "scrolled": true
   },
   "outputs": [
    {
     "name": "stdout",
     "output_type": "stream",
     "text": [
      "Train on 48000 samples, validate on 12000 samples\n",
      "Epoch 1/30\n",
      "47800/48000 [============================>.] - ETA: 0s - loss: 0.3105 - accuracy: 0.9063\n",
      "Epoch 00001: val_loss improved from inf to 0.06994, saving model to ./model/mnist-cnn-01-0.0699.hdf5\n",
      "48000/48000 [==============================] - 35s 726us/sample - loss: 0.3100 - accuracy: 0.9064 - val_loss: 0.0699 - val_accuracy: 0.9794\n",
      "Epoch 2/30\n",
      "47800/48000 [============================>.] - ETA: 0s - loss: 0.0996 - accuracy: 0.9697\n",
      "Epoch 00002: val_loss improved from 0.06994 to 0.05104, saving model to ./model/mnist-cnn-02-0.0510.hdf5\n",
      "48000/48000 [==============================] - 34s 714us/sample - loss: 0.0996 - accuracy: 0.9697 - val_loss: 0.0510 - val_accuracy: 0.9853\n",
      "Epoch 3/30\n",
      "47800/48000 [============================>.] - ETA: 0s - loss: 0.0711 - accuracy: 0.9800\n",
      "Epoch 00003: val_loss improved from 0.05104 to 0.04243, saving model to ./model/mnist-cnn-03-0.0424.hdf5\n",
      "48000/48000 [==============================] - 34s 704us/sample - loss: 0.0711 - accuracy: 0.9800 - val_loss: 0.0424 - val_accuracy: 0.9872\n",
      "Epoch 4/30\n",
      "47800/48000 [============================>.] - ETA: 0s - loss: 0.0586 - accuracy: 0.9824\n",
      "Epoch 00004: val_loss improved from 0.04243 to 0.03941, saving model to ./model/mnist-cnn-04-0.0394.hdf5\n",
      "48000/48000 [==============================] - 34s 703us/sample - loss: 0.0586 - accuracy: 0.9824 - val_loss: 0.0394 - val_accuracy: 0.9887\n",
      "Epoch 5/30\n",
      "47800/48000 [============================>.] - ETA: 0s - loss: 0.0481 - accuracy: 0.9849\n",
      "Epoch 00005: val_loss improved from 0.03941 to 0.03680, saving model to ./model/mnist-cnn-05-0.0368.hdf5\n",
      "48000/48000 [==============================] - 34s 704us/sample - loss: 0.0479 - accuracy: 0.9849 - val_loss: 0.0368 - val_accuracy: 0.9895\n",
      "Epoch 6/30\n",
      "47800/48000 [============================>.] - ETA: 0s - loss: 0.0415 - accuracy: 0.9865\n",
      "Epoch 00006: val_loss improved from 0.03680 to 0.03363, saving model to ./model/mnist-cnn-06-0.0336.hdf5\n",
      "48000/48000 [==============================] - 34s 703us/sample - loss: 0.0418 - accuracy: 0.9865 - val_loss: 0.0336 - val_accuracy: 0.9902\n",
      "Epoch 7/30\n",
      "47800/48000 [============================>.] - ETA: 0s - loss: 0.0369 - accuracy: 0.9882\n",
      "Epoch 00007: val_loss improved from 0.03363 to 0.03291, saving model to ./model/mnist-cnn-07-0.0329.hdf5\n",
      "48000/48000 [==============================] - 34s 703us/sample - loss: 0.0370 - accuracy: 0.9881 - val_loss: 0.0329 - val_accuracy: 0.9908\n",
      "Epoch 8/30\n",
      "47800/48000 [============================>.] - ETA: 0s - loss: 0.0324 - accuracy: 0.9897\n",
      "Epoch 00008: val_loss did not improve from 0.03291\n",
      "48000/48000 [==============================] - 34s 705us/sample - loss: 0.0324 - accuracy: 0.9897 - val_loss: 0.0367 - val_accuracy: 0.9894\n",
      "Epoch 9/30\n",
      "47800/48000 [============================>.] - ETA: 0s - loss: 0.0301 - accuracy: 0.9904\n",
      "Epoch 00009: val_loss did not improve from 0.03291\n",
      "48000/48000 [==============================] - 34s 702us/sample - loss: 0.0301 - accuracy: 0.9903 - val_loss: 0.0386 - val_accuracy: 0.9898\n",
      "Epoch 10/30\n",
      "47800/48000 [============================>.] - ETA: 0s - loss: 0.0283 - accuracy: 0.9907\n",
      "Epoch 00010: val_loss did not improve from 0.03291\n",
      "48000/48000 [==============================] - 34s 701us/sample - loss: 0.0283 - accuracy: 0.9908 - val_loss: 0.0341 - val_accuracy: 0.9902\n",
      "Epoch 11/30\n",
      "47800/48000 [============================>.] - ETA: 0s - loss: 0.0252 - accuracy: 0.9913\n",
      "Epoch 00011: val_loss did not improve from 0.03291\n",
      "48000/48000 [==============================] - 34s 702us/sample - loss: 0.0252 - accuracy: 0.9913 - val_loss: 0.0363 - val_accuracy: 0.9910\n",
      "Epoch 12/30\n",
      "47800/48000 [============================>.] - ETA: 0s - loss: 0.0236 - accuracy: 0.9928\n",
      "Epoch 00012: val_loss did not improve from 0.03291\n",
      "48000/48000 [==============================] - 34s 702us/sample - loss: 0.0235 - accuracy: 0.9929 - val_loss: 0.0356 - val_accuracy: 0.9910\n",
      "Epoch 13/30\n",
      "47800/48000 [============================>.] - ETA: 0s - loss: 0.0214 - accuracy: 0.9931\n",
      "Epoch 00013: val_loss did not improve from 0.03291\n",
      "48000/48000 [==============================] - 34s 702us/sample - loss: 0.0214 - accuracy: 0.9931 - val_loss: 0.0394 - val_accuracy: 0.9898\n",
      "Epoch 14/30\n",
      "47800/48000 [============================>.] - ETA: 0s - loss: 0.0203 - accuracy: 0.9929\n",
      "Epoch 00014: val_loss did not improve from 0.03291\n",
      "48000/48000 [==============================] - 34s 702us/sample - loss: 0.0203 - accuracy: 0.9929 - val_loss: 0.0364 - val_accuracy: 0.9908\n",
      "Epoch 15/30\n",
      "47800/48000 [============================>.] - ETA: 0s - loss: 0.0188 - accuracy: 0.9939\n",
      "Epoch 00015: val_loss did not improve from 0.03291\n",
      "48000/48000 [==============================] - 34s 702us/sample - loss: 0.0188 - accuracy: 0.9939 - val_loss: 0.0379 - val_accuracy: 0.9911\n",
      "Epoch 16/30\n",
      "47800/48000 [============================>.] - ETA: 0s - loss: 0.0192 - accuracy: 0.9936\n",
      "Epoch 00016: val_loss did not improve from 0.03291\n",
      "48000/48000 [==============================] - 34s 708us/sample - loss: 0.0193 - accuracy: 0.9935 - val_loss: 0.0388 - val_accuracy: 0.9913\n",
      "Epoch 17/30\n",
      "47800/48000 [============================>.] - ETA: 0s - loss: 0.0179 - accuracy: 0.9941\n",
      "Epoch 00017: val_loss did not improve from 0.03291\n",
      "48000/48000 [==============================] - 34s 704us/sample - loss: 0.0179 - accuracy: 0.9941 - val_loss: 0.0339 - val_accuracy: 0.9918\n"
     ]
    }
   ],
   "source": [
    "# 모델의 실행\n",
    "history = model.fit(X_train, Y_train, validation_split=0.2, epochs=30,\n",
    "                    batch_size=200, #epochs=5, verbose=2, \n",
    "                    callbacks=[early_stopping_callback, checkpointer])"
   ]
  },
  {
   "cell_type": "code",
   "execution_count": 20,
   "metadata": {},
   "outputs": [],
   "source": [
    "from tensorflow.keras.models import load_model\n",
    "del model\n",
    "model = load_model('model/mnist-cnn-07-0.0329.hdf5')"
   ]
  },
  {
   "cell_type": "code",
   "execution_count": 23,
   "metadata": {},
   "outputs": [
    {
     "name": "stdout",
     "output_type": "stream",
     "text": [
      "\n",
      " Test Accuracy: 0.9910\n"
     ]
    }
   ],
   "source": [
    "# 테스트 정확도 출력\n",
    "print(\"\\n Test Accuracy: %.4f\" % (model.evaluate(X_test, Y_test, verbose=0)[1]))"
   ]
  },
  {
   "cell_type": "code",
   "execution_count": 24,
   "metadata": {},
   "outputs": [],
   "source": [
    "# 테스트셋의 오차\n",
    "y_vloss = history.history['val_loss']\n",
    "\n",
    "# 학습셋의 오차\n",
    "y_loss = history.history['loss']"
   ]
  },
  {
   "cell_type": "code",
   "execution_count": 25,
   "metadata": {},
   "outputs": [
    {
     "data": {
      "image/png": "[encoded data removed]",
      "text/plain": [
       "<Figure size 576x432 with 1 Axes>"
      ]
     },
     "metadata": {
      "needs_background": "light"
     },
     "output_type": "display_data"
    }
   ],
   "source": [
    "# 그래프로 표현\n",
    "x_len = np.arange(1, len(y_loss)+1)\n",
    "plt.figure(figsize=(8,6))\n",
    "plt.plot(x_len, y_vloss, marker='.', c=\"red\", label='Testset_loss')\n",
    "plt.plot(x_len, y_loss, marker='.', c=\"blue\", label='Trainset_loss')\n",
    "\n",
    "# 그래프에 그리드를 주고 레이블을 표시\n",
    "plt.legend(loc='upper right')\n",
    "# plt.axis([0, 20, 0, 0.35])\n",
    "plt.grid()\n",
    "plt.xlabel('epoch')\n",
    "plt.ylabel('loss')\n",
    "plt.show()"
   ]
  },
  {
   "cell_type": "markdown",
   "metadata": {},
   "source": [
    "#### 결론: Best Model은 Epoch 07, 정확도는 99.10%"
   ]
  },
  {
   "cell_type": "code",
   "execution_count": null,
   "metadata": {},
   "outputs": [],
   "source": []
  }
 ],
 "metadata": {
  "kernelspec": {
   "display_name": "Python 3",
   "language": "python",
   "name": "python3"
  },
  "language_info": {
   "codemirror_mode": {
    "name": "ipython",
    "version": 3
   },
   "file_extension": ".py",
   "mimetype": "text/x-python",
   "name": "python",
   "nbconvert_exporter": "python",
   "pygments_lexer": "ipython3",
   "version": "3.7.7"
  }
 },
 "nbformat": 4,
 "nbformat_minor": 4
}
